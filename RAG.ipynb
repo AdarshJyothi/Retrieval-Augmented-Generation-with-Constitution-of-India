{
 "cells": [
  {
   "cell_type": "code",
   "execution_count": 1,
   "id": "3b68b199",
   "metadata": {},
   "outputs": [],
   "source": [
    "import random\n",
    "import pandas as pd\n",
    "import numpy as np\n",
    "import torch"
   ]
  },
  {
   "cell_type": "code",
   "execution_count": 2,
   "id": "f0efced4",
   "metadata": {},
   "outputs": [
    {
     "data": {
      "text/plain": [
       "torch.Size([294, 768])"
      ]
     },
     "execution_count": 2,
     "metadata": {},
     "output_type": "execute_result"
    }
   ],
   "source": [
    "device = \"cuda\" if torch.cuda.is_available() else \"cpu\"\n",
    "\n",
    "\n",
    "\n",
    "constitution = pd.read_csv(\"constitution_embeddings.csv\")\n",
    "\n",
    "\n",
    "# Convert embedding column back to np.array (it got converted to string when it got saved to CSV)\n",
    "constitution[\"embedding\"] = constitution[\"embedding\"].apply(lambda x: np.fromstring(x.strip(\"[]\"), sep=\" \"))\n",
    "\n",
    "# Convert to a list of dictionaries- this is later needed once we find those embedding indices with top similarity to the input to map back to the text.\n",
    "constitution_and_chunks = constitution.to_dict(orient=\"records\")\n",
    "\n",
    "# Convert embeddings to torch tensor and send to device (note: NumPy arrays are float64, torch tensors are float32 by default)\n",
    "embeddings = torch.tensor(np.array(constitution[\"embedding\"].tolist()), dtype=torch.float32).to(device)\n",
    "embeddings.shape"
   ]
  },
  {
   "cell_type": "code",
   "execution_count": 3,
   "id": "d85b6059",
   "metadata": {},
   "outputs": [
    {
     "data": {
      "text/html": [
       "<div>\n",
       "<style scoped>\n",
       "    .dataframe tbody tr th:only-of-type {\n",
       "        vertical-align: middle;\n",
       "    }\n",
       "\n",
       "    .dataframe tbody tr th {\n",
       "        vertical-align: top;\n",
       "    }\n",
       "\n",
       "    .dataframe thead th {\n",
       "        text-align: right;\n",
       "    }\n",
       "</style>\n",
       "<table border=\"1\" class=\"dataframe\">\n",
       "  <thead>\n",
       "    <tr style=\"text-align: right;\">\n",
       "      <th></th>\n",
       "      <th>text</th>\n",
       "      <th>section</th>\n",
       "      <th>chapter</th>\n",
       "      <th>token_count</th>\n",
       "      <th>embedding</th>\n",
       "    </tr>\n",
       "  </thead>\n",
       "  <tbody>\n",
       "    <tr>\n",
       "      <th>0</th>\n",
       "      <td>PREAMBLE\\r\\nWE, THE PEOPLE OF INDIA, having so...</td>\n",
       "      <td>Preamble</td>\n",
       "      <td>NaN</td>\n",
       "      <td>117</td>\n",
       "      <td>[-0.00540214172, -0.0082473075, -0.0230496284,...</td>\n",
       "    </tr>\n",
       "    <tr>\n",
       "      <th>1</th>\n",
       "      <td>PART I\\r\\nTHE UNION AND ITS TERRITORY\\r\\n1. Na...</td>\n",
       "      <td>Part I.—Union and its territory</td>\n",
       "      <td>NaN</td>\n",
       "      <td>186</td>\n",
       "      <td>[0.00117035874, -0.0688068941, -0.0183506459, ...</td>\n",
       "    </tr>\n",
       "    <tr>\n",
       "      <th>2</th>\n",
       "      <td>3. Formation of new States and alteration of a...</td>\n",
       "      <td>Part I.—Union and its territory</td>\n",
       "      <td>NaN</td>\n",
       "      <td>455</td>\n",
       "      <td>[0.00985680893, -0.0103680845, -0.021209022, 0...</td>\n",
       "    </tr>\n",
       "    <tr>\n",
       "      <th>3</th>\n",
       "      <td>PART II\\r\\nCITIZENSHIP\\r\\n5. Citizenship at th...</td>\n",
       "      <td>Part II.—Citizenship</td>\n",
       "      <td>NaN</td>\n",
       "      <td>343</td>\n",
       "      <td>[-0.00939577073, 0.0101611437, -0.0181463622, ...</td>\n",
       "    </tr>\n",
       "    <tr>\n",
       "      <th>4</th>\n",
       "      <td>7. Rights of citizenship of certain migrants t...</td>\n",
       "      <td>Part II.—Citizenship</td>\n",
       "      <td>NaN</td>\n",
       "      <td>475</td>\n",
       "      <td>[-0.0027527248, 0.00307379779, -0.0164747369, ...</td>\n",
       "    </tr>\n",
       "  </tbody>\n",
       "</table>\n",
       "</div>"
      ],
      "text/plain": [
       "                                                text  \\\n",
       "0  PREAMBLE\\r\\nWE, THE PEOPLE OF INDIA, having so...   \n",
       "1  PART I\\r\\nTHE UNION AND ITS TERRITORY\\r\\n1. Na...   \n",
       "2  3. Formation of new States and alteration of a...   \n",
       "3  PART II\\r\\nCITIZENSHIP\\r\\n5. Citizenship at th...   \n",
       "4  7. Rights of citizenship of certain migrants t...   \n",
       "\n",
       "                           section chapter  token_count  \\\n",
       "0                         Preamble     NaN          117   \n",
       "1  Part I.—Union and its territory     NaN          186   \n",
       "2  Part I.—Union and its territory     NaN          455   \n",
       "3             Part II.—Citizenship     NaN          343   \n",
       "4             Part II.—Citizenship     NaN          475   \n",
       "\n",
       "                                           embedding  \n",
       "0  [-0.00540214172, -0.0082473075, -0.0230496284,...  \n",
       "1  [0.00117035874, -0.0688068941, -0.0183506459, ...  \n",
       "2  [0.00985680893, -0.0103680845, -0.021209022, 0...  \n",
       "3  [-0.00939577073, 0.0101611437, -0.0181463622, ...  \n",
       "4  [-0.0027527248, 0.00307379779, -0.0164747369, ...  "
      ]
     },
     "execution_count": 3,
     "metadata": {},
     "output_type": "execute_result"
    }
   ],
   "source": [
    "constitution.head()"
   ]
  },
  {
   "cell_type": "markdown",
   "id": "53cafbab",
   "metadata": {},
   "source": [
    "## Semantic Search"
   ]
  },
  {
   "cell_type": "code",
   "execution_count": 4,
   "id": "8176564f",
   "metadata": {},
   "outputs": [],
   "source": [
    "#call the model\n",
    "from sentence_transformers import util, SentenceTransformer \n",
    "\n",
    "\n",
    "embedding_model = SentenceTransformer(model_name_or_path=\"multi-qa-mpnet-base-dot-v1\",device = device)"
   ]
  },
  {
   "cell_type": "code",
   "execution_count": 5,
   "id": "70073478",
   "metadata": {},
   "outputs": [
    {
     "name": "stdout",
     "output_type": "stream",
     "text": [
      "Query : elections\n",
      "Time taken to get scores on 294 embeddings : 0.02659 seconds.\n"
     ]
    },
    {
     "data": {
      "text/plain": [
       "torch.return_types.topk(\n",
       "values=tensor([3.2965, 3.2340, 3.0563, 2.9260, 2.9213], device='cuda:0'),\n",
       "indices=tensor([ 56,  69, 143, 139,  71], device='cuda:0'))"
      ]
     },
     "execution_count": 5,
     "metadata": {},
     "output_type": "execute_result"
    }
   ],
   "source": [
    "#testing \n",
    "query = \"elections\"\n",
    "print(f'Query : {query}')\n",
    "\n",
    "#embed the query\n",
    "q_embed = embedding_model.encode(query,convert_to_tensor = True)\n",
    "\n",
    "#get similarity scores with dot product\n",
    "##to time this \n",
    "from time import perf_counter as timer \n",
    "\n",
    "start_time = timer()\n",
    "dot_scores = util.dot_score(a= q_embed,b= embeddings)[0]\n",
    "end_time = timer()\n",
    "\n",
    "print(f'Time taken to get scores on {len(embeddings)} embeddings : {end_time-start_time:.5f} seconds.')\n",
    "\n",
    "#get top k=5 results\n",
    "top_results = torch.topk(dot_scores,k=5)\n",
    "top_results\n"
   ]
  },
  {
   "cell_type": "code",
   "execution_count": 6,
   "id": "04f83540",
   "metadata": {},
   "outputs": [],
   "source": [
    "import textwrap\n",
    "\n",
    "#return a wrapped version of the text\n",
    "def print_wrapped(text,wrap_length = 80)  :\n",
    "    wrapped_text = textwrap.fill(text,wrap_length)\n",
    "    print(wrapped_text)"
   ]
  },
  {
   "cell_type": "code",
   "execution_count": 7,
   "id": "f7612ea9",
   "metadata": {},
   "outputs": [
    {
     "name": "stdout",
     "output_type": "stream",
     "text": [
      "Query: 'elections'\n",
      "\n",
      "Results:\n",
      "Score: 3.2965\n",
      "Text:\n",
      "243ZK. Election of members of board.—(1) Notwithstanding anything   contained in\n",
      "any law made by the Legislature of a State, the election of a board   shall be\n",
      "conducted before the expiry of the term of the board so as to ensure   that the\n",
      "newly elected members of the board assume office immediately on the   expiry of\n",
      "the office of members of the outgoing board.  (2) The superintendence, direction\n",
      "and control of the preparation of   electoral rolls for, and the conduct of, all\n",
      "elections to a co-operative society   shall vest in such an authority or body,\n",
      "as may be provided by the Legislature   of a State, by law:  Provided that the\n",
      "Legislature of a State may, by law, provide for the   procedure and guidelines\n",
      "for the conduct of such elections.\n",
      "section : Part IXB.—Co-operative Societies\n",
      "\n",
      "\n",
      "Score: 3.2340\n",
      "Text:\n",
      "PART XV  ELECTIONS  324. Superintendence, direction and control of elections to\n",
      "be vested   in an Election Commission.—(1) The superintendence, direction and\n",
      "control   of the preparation of the electoral rolls for, and the conduct of, all\n",
      "elections to   Parliament and to the Legislature of every State and of elections\n",
      "to the offices   of President and Vice-President held under this Constitution\n",
      "1*** shall be   vested in a Commission (referred to in this Constitution as the\n",
      "Election   Commission).   (2) The Election Commission shall consist of the Chief\n",
      "Election   Commissioner and such number of other Election Commissioners, if any,\n",
      "as the   President may from time to time fix and the appointment of the Chief\n",
      "Election   Commissioner and other Election Commissioners shall, subject to the\n",
      "provisions   of any law made in that behalf by Parliament, be made by the\n",
      "President.  (3) When any other Election Commissioner is so appointed the Chief\n",
      "Election Commissioner shall act as the Chairman of the Election Commission.  (4)\n",
      "Before each general election to the House of the People and to the   Legislative\n",
      "Assembly of each State, and before the first general election and   thereafter\n",
      "before each biennial election to the Legislative Council of each State   having\n",
      "such Council, the President may also appoint after consultation with the\n",
      "Election Commission such Regional Commissioners as he may consider   necessary\n",
      "to assist the Election Commission in the performance of the   functions\n",
      "conferred on the Commission by clause (1).  (5) Subject to the provisions of any\n",
      "law made by Parliament, the conditions   of service and tenure of office of the\n",
      "Election Commissioners and the Regional   Commissioners shall be such as the\n",
      "President may by rule determine:  Provided that the Chief Election Commissioner\n",
      "shall not be removed   from his office except in like manner and on the like\n",
      "grounds as a Judge of the   Supreme Court and the conditions of service of the\n",
      "Chief Election   Commissioner shall not be varied to his disadvantage after his\n",
      "appointment:  (Part XV.—Elections)   Provided further that any other Election\n",
      "Commissioner or a Regional   Commissioner shall not be removed from office\n",
      "except on the recommendation   of the Chief Election Commissioner.  (6) The\n",
      "President, or the Governor 1*** of a State, shall, when so   requested by the\n",
      "Election Commission, make available to the Election   Commission or to a\n",
      "Regional Commissioner such staff as may be necessary for   the discharge of the\n",
      "functions conferred on the Election Commission by      clause (1).\n",
      "section : Part XV.—Elections\n",
      "\n",
      "\n",
      "Score: 3.0563\n",
      "Text:\n",
      "62. Time of holding election to fill vacancy in the office of President   and\n",
      "the term of office of person elected to fill casual vacancy.—(1) An   election\n",
      "to fill a vacancy caused by the expiration of the term of office of   President\n",
      "shall be completed before the expiration of the term.   (2) An election to fill\n",
      "a vacancy in the office of President occurring by   reason of his death,\n",
      "resignation or removal, or otherwise shall be held as soon   as possible after,\n",
      "and in no case later than six months from, the date of   occurrence of the\n",
      "vacancy; and the person elected to fill the vacancy shall,   subject to the\n",
      "provisions of article 56, be entitled to hold office for the full term   of five\n",
      "years from the date on which he enters upon his office. 63. The Vice-President\n",
      "of India.—There shall be a Vice-President of India.\n",
      "section : Part V.—The Union\n",
      "\n",
      "\n",
      "Score: 2.9260\n",
      "Text:\n",
      "55. Manner of election of President.—(1) As far as practicable, there   shall be\n",
      "uniformity in the scale of representation of the different States at the\n",
      "election of the President.  (2) For the purpose of securing such uniformity\n",
      "among the States inter se   as well as parity between the States as a whole and\n",
      "the Union, the number of   votes which each elected member of Parliament and of\n",
      "the Legislative   Assembly of each State is entitled to cast at such election\n",
      "shall be determined in   the following manner:—  (a) every elected member of the\n",
      "Legislative Assembly of a State shall   have as many votes as there are\n",
      "multiples of one thousand in the quotient   obtained by dividing the population\n",
      "of the State by the total number of   the elected members of the Assembly;\n",
      "(Part V.—The Union)  (b) if, after taking the said multiples of one thousand,\n",
      "the remainder is   not less than five hundred, then the vote of each member\n",
      "referred to in   sub-clause (a) shall be further increased by one;  (c) each\n",
      "elected member of either House of Parliament shall have   such number of votes\n",
      "as may be obtained by dividing the total number of   votes assigned to the\n",
      "members of the Legislative Assemblies of the   States under sub-clauses (a) and\n",
      "(b)  by the total number of the elected   members of both Houses of Parliament,\n",
      "fractions exceeding one-half   being counted as one and other fractions being\n",
      "disregarded.  (3) The election of the President shall be held in accordance with\n",
      "the   system of proportional representation by means of the single transferable\n",
      "vote   and the voting at such election shall be by secret ballot.\n",
      "1[Explanation.—In this article, the expression “population” means the\n",
      "population as ascertained at the last preceding census of which the relevant\n",
      "figures have been published:  Provided that the reference in this Explanation to\n",
      "the last preceding   census of which the relevant figures have been published\n",
      "shall, until the   relevant figures for the first census taken after the year\n",
      "2[2026] have been   published, be construed as a reference to the 1971 census.]\n",
      "section : Part V.—The Union\n",
      "\n",
      "\n",
      "Score: 2.9213\n",
      "Text:\n",
      "329. Bar to interference by courts in electoral matters.—  1[Notwithstanding\n",
      "anything in this Constitution 2***—]  (a) the validity of any law relating to\n",
      "the delimitation of   constituencies or the allotment of seats to such\n",
      "constituencies, made or   purporting to be made under article 327 or article\n",
      "328, shall not be called   in question in any court;  (b) no election to either\n",
      "House of Parliament or to the House or   either House of the Legislature of a\n",
      "State shall be called in question   except by an election petition presented to\n",
      "such authority and in such   manner as may be provided for by or under any law\n",
      "made by the   appropriate Legislature.  3329A. [Special provision as to\n",
      "elections to Parliament in the case of   Prime Minister and Speaker.].—Omitted\n",
      "by the Constitution (Forty-fourth   Amendment) Act, 1978, s. 36 (w.e.f.\n",
      "20-6-1979).\n",
      "section : Part XV.—Elections\n",
      "\n",
      "\n"
     ]
    }
   ],
   "source": [
    "print(f\"Query: '{query}'\\n\")\n",
    "print(\"Results:\")\n",
    "\n",
    "#zip them together and loop over to print\n",
    "for score,idx in zip(top_results[0],top_results[1]) :\n",
    "    print(f\"Score: {score:.4f}\")\n",
    "    print(\"Text:\")\n",
    "    #get the text from dict and print as wrapped\n",
    "    print_wrapped(constitution_and_chunks[idx][\"text\"])\n",
    "    #print the part as well as well\n",
    "    print(f\"section : {constitution_and_chunks[idx][\"section\"]}\")\n",
    "    print(\"\\n\")\n"
   ]
  },
  {
   "cell_type": "markdown",
   "id": "9f04ed7d",
   "metadata": {},
   "source": [
    "## Functionizing the semantic search pipline"
   ]
  },
  {
   "cell_type": "code",
   "execution_count": 8,
   "id": "23ceea62",
   "metadata": {},
   "outputs": [],
   "source": [
    "def retrieve_relevant_resources(query: str,\n",
    "                                embeddings: torch.tensor,\n",
    "                                model: SentenceTransformer=embedding_model,\n",
    "                                n_resources_to_return: int=5,\n",
    "                                print_time: bool=True):\n",
    "    \"\"\"\n",
    "    Embeds a query with model and returns top k scores and indices from embeddings.\n",
    "    \"\"\"\n",
    "\n",
    "    # Embed the query\n",
    "    query_embedding = model.encode(query, \n",
    "                                   convert_to_tensor=True) \n",
    "\n",
    "    # Get dot product scores on embeddings\n",
    "    start_time = timer()\n",
    "    dot_scores = util.dot_score(query_embedding, embeddings)[0]\n",
    "    end_time = timer()\n",
    "\n",
    "    if print_time:\n",
    "        print(f\"[INFO] Time taken to get scores on {len(embeddings)} embeddings: {end_time-start_time:.5f} seconds.\")\n",
    "\n",
    "    scores, indices = torch.topk(input=dot_scores, \n",
    "                                 k=n_resources_to_return)\n",
    "\n",
    "    return scores, indices\n",
    "\n",
    "def print_top_results_and_scores(query: str,\n",
    "                                 embeddings: torch.tensor,\n",
    "                                 constitution_and_chunks: list[dict]=constitution_and_chunks,\n",
    "                                 n_resources_to_return: int=5):\n",
    "    \"\"\"\n",
    "    Takes a query, retrieves most relevant resources and prints them out in descending order.\n",
    "\n",
    "    Note: Since constitution_and_chunks is a list of dictionaries, it requires constitution_and_chunks to be formatted in a specific way (see above for reference).\n",
    "    \"\"\"\n",
    "    \n",
    "    scores, indices = retrieve_relevant_resources(query=query,\n",
    "                                                  embeddings=embeddings,\n",
    "                                                  n_resources_to_return=n_resources_to_return)\n",
    "    \n",
    "    print(f\"Query: {query}\\n\")\n",
    "    print(\"Results:\")\n",
    "    # Loop through zipped together scores and indicies\n",
    "    for score, index in zip(scores, indices):\n",
    "        print(f\"Score: {score:.4f}\")\n",
    "        # Print relevant text chunk (since the scores are in descending order, the most relevant chunk will be first)\n",
    "        print_wrapped(constitution_and_chunks[idx][\"text\"])\n",
    "        #print the part as well as well\n",
    "        print(f\"section : {constitution_and_chunks[idx][\"section\"]}\")\n",
    "        print(\"\\n\")\n",
    "\n"
   ]
  },
  {
   "cell_type": "code",
   "execution_count": 9,
   "id": "ac428b06",
   "metadata": {},
   "outputs": [
    {
     "name": "stdout",
     "output_type": "stream",
     "text": [
      "[INFO] Time taken to get scores on 294 embeddings: 0.00007 seconds.\n"
     ]
    },
    {
     "data": {
      "text/plain": [
       "(tensor([4.4927, 4.3322, 4.2765, 4.2324, 3.8440], device='cuda:0'),\n",
       " tensor([34, 35, 38, 37, 40], device='cuda:0'))"
      ]
     },
     "execution_count": 9,
     "metadata": {},
     "output_type": "execute_result"
    }
   ],
   "source": [
    "#testing the function-1\n",
    "query = \"panchayat\"\n",
    "\n",
    "# Get just the scores and indices of top related results\n",
    "scores, indices = retrieve_relevant_resources(query=query,\n",
    "                                              embeddings=embeddings)\n",
    "scores, indices"
   ]
  },
  {
   "cell_type": "code",
   "execution_count": 10,
   "id": "3d833315",
   "metadata": {},
   "outputs": [
    {
     "name": "stdout",
     "output_type": "stream",
     "text": [
      "[INFO] Time taken to get scores on 294 embeddings: 0.00006 seconds.\n",
      "Query: panchayat\n",
      "\n",
      "Results:\n",
      "Score: 4.4927\n",
      "329. Bar to interference by courts in electoral matters.—  1[Notwithstanding\n",
      "anything in this Constitution 2***—]  (a) the validity of any law relating to\n",
      "the delimitation of   constituencies or the allotment of seats to such\n",
      "constituencies, made or   purporting to be made under article 327 or article\n",
      "328, shall not be called   in question in any court;  (b) no election to either\n",
      "House of Parliament or to the House or   either House of the Legislature of a\n",
      "State shall be called in question   except by an election petition presented to\n",
      "such authority and in such   manner as may be provided for by or under any law\n",
      "made by the   appropriate Legislature.  3329A. [Special provision as to\n",
      "elections to Parliament in the case of   Prime Minister and Speaker.].—Omitted\n",
      "by the Constitution (Forty-fourth   Amendment) Act, 1978, s. 36 (w.e.f.\n",
      "20-6-1979).\n",
      "section : Part XV.—Elections\n",
      "\n",
      "\n",
      "Score: 4.3322\n",
      "329. Bar to interference by courts in electoral matters.—  1[Notwithstanding\n",
      "anything in this Constitution 2***—]  (a) the validity of any law relating to\n",
      "the delimitation of   constituencies or the allotment of seats to such\n",
      "constituencies, made or   purporting to be made under article 327 or article\n",
      "328, shall not be called   in question in any court;  (b) no election to either\n",
      "House of Parliament or to the House or   either House of the Legislature of a\n",
      "State shall be called in question   except by an election petition presented to\n",
      "such authority and in such   manner as may be provided for by or under any law\n",
      "made by the   appropriate Legislature.  3329A. [Special provision as to\n",
      "elections to Parliament in the case of   Prime Minister and Speaker.].—Omitted\n",
      "by the Constitution (Forty-fourth   Amendment) Act, 1978, s. 36 (w.e.f.\n",
      "20-6-1979).\n",
      "section : Part XV.—Elections\n",
      "\n",
      "\n",
      "Score: 4.2765\n",
      "329. Bar to interference by courts in electoral matters.—  1[Notwithstanding\n",
      "anything in this Constitution 2***—]  (a) the validity of any law relating to\n",
      "the delimitation of   constituencies or the allotment of seats to such\n",
      "constituencies, made or   purporting to be made under article 327 or article\n",
      "328, shall not be called   in question in any court;  (b) no election to either\n",
      "House of Parliament or to the House or   either House of the Legislature of a\n",
      "State shall be called in question   except by an election petition presented to\n",
      "such authority and in such   manner as may be provided for by or under any law\n",
      "made by the   appropriate Legislature.  3329A. [Special provision as to\n",
      "elections to Parliament in the case of   Prime Minister and Speaker.].—Omitted\n",
      "by the Constitution (Forty-fourth   Amendment) Act, 1978, s. 36 (w.e.f.\n",
      "20-6-1979).\n",
      "section : Part XV.—Elections\n",
      "\n",
      "\n",
      "Score: 4.2324\n",
      "329. Bar to interference by courts in electoral matters.—  1[Notwithstanding\n",
      "anything in this Constitution 2***—]  (a) the validity of any law relating to\n",
      "the delimitation of   constituencies or the allotment of seats to such\n",
      "constituencies, made or   purporting to be made under article 327 or article\n",
      "328, shall not be called   in question in any court;  (b) no election to either\n",
      "House of Parliament or to the House or   either House of the Legislature of a\n",
      "State shall be called in question   except by an election petition presented to\n",
      "such authority and in such   manner as may be provided for by or under any law\n",
      "made by the   appropriate Legislature.  3329A. [Special provision as to\n",
      "elections to Parliament in the case of   Prime Minister and Speaker.].—Omitted\n",
      "by the Constitution (Forty-fourth   Amendment) Act, 1978, s. 36 (w.e.f.\n",
      "20-6-1979).\n",
      "section : Part XV.—Elections\n",
      "\n",
      "\n",
      "Score: 3.8440\n",
      "329. Bar to interference by courts in electoral matters.—  1[Notwithstanding\n",
      "anything in this Constitution 2***—]  (a) the validity of any law relating to\n",
      "the delimitation of   constituencies or the allotment of seats to such\n",
      "constituencies, made or   purporting to be made under article 327 or article\n",
      "328, shall not be called   in question in any court;  (b) no election to either\n",
      "House of Parliament or to the House or   either House of the Legislature of a\n",
      "State shall be called in question   except by an election petition presented to\n",
      "such authority and in such   manner as may be provided for by or under any law\n",
      "made by the   appropriate Legislature.  3329A. [Special provision as to\n",
      "elections to Parliament in the case of   Prime Minister and Speaker.].—Omitted\n",
      "by the Constitution (Forty-fourth   Amendment) Act, 1978, s. 36 (w.e.f.\n",
      "20-6-1979).\n",
      "section : Part XV.—Elections\n",
      "\n",
      "\n"
     ]
    }
   ],
   "source": [
    "#test function-2 : Print out the texts of the top scores\n",
    "print_top_results_and_scores(query=query,\n",
    "                             embeddings=embeddings)"
   ]
  },
  {
   "cell_type": "markdown",
   "id": "26f1258e",
   "metadata": {},
   "source": [
    "## LLM "
   ]
  },
  {
   "cell_type": "code",
   "execution_count": 11,
   "id": "d9eff3a1",
   "metadata": {},
   "outputs": [
    {
     "name": "stdout",
     "output_type": "stream",
     "text": [
      "Thu Sep  4 17:08:56 2025       \n",
      "+-----------------------------------------------------------------------------------------+\n",
      "| NVIDIA-SMI 576.52                 Driver Version: 576.52         CUDA Version: 12.9     |\n",
      "|-----------------------------------------+------------------------+----------------------+\n",
      "| GPU  Name                  Driver-Model | Bus-Id          Disp.A | Volatile Uncorr. ECC |\n",
      "| Fan  Temp   Perf          Pwr:Usage/Cap |           Memory-Usage | GPU-Util  Compute M. |\n",
      "|                                         |                        |               MIG M. |\n",
      "|=========================================+========================+======================|\n",
      "|   0  NVIDIA GeForce GTX 1660 ...  WDDM  |   00000000:01:00.0  On |                  N/A |\n",
      "| 31%   38C    P2             19W /  125W |    1146MiB /   6144MiB |     21%      Default |\n",
      "|                                         |                        |                  N/A |\n",
      "+-----------------------------------------+------------------------+----------------------+\n",
      "                                                                                         \n",
      "+-----------------------------------------------------------------------------------------+\n",
      "| Processes:                                                                              |\n",
      "|  GPU   GI   CI              PID   Type   Process name                        GPU Memory |\n",
      "|        ID   ID                                                               Usage      |\n",
      "|=========================================================================================|\n",
      "|    0   N/A  N/A             504    C+G   ...5n1h2txyewy\\TextInputHost.exe      N/A      |\n",
      "|    0   N/A  N/A            3780    C+G   ...Chrome\\Application\\chrome.exe      N/A      |\n",
      "|    0   N/A  N/A            5160    C+G   ...IA App\\CEF\\NVIDIA Overlay.exe      N/A      |\n",
      "|    0   N/A  N/A            7624    C+G   ...Chrome\\Application\\chrome.exe      N/A      |\n",
      "|    0   N/A  N/A            9500    C+G   ...8bbwe\\PhoneExperienceHost.exe      N/A      |\n",
      "|    0   N/A  N/A            9996    C+G   ...0.3405.125\\msedgewebview2.exe      N/A      |\n",
      "|    0   N/A  N/A           10348    C+G   ...ntrolPanel\\SystemSettings.exe      N/A      |\n",
      "|    0   N/A  N/A           11168    C+G   C:\\Windows\\explorer.exe               N/A      |\n",
      "|    0   N/A  N/A           11568    C+G   ...y\\StartMenuExperienceHost.exe      N/A      |\n",
      "|    0   N/A  N/A           13308    C+G   ...h_cw5n1h2txyewy\\SearchApp.exe      N/A      |\n",
      "|    0   N/A  N/A           13432    C+G   ...ms\\Microsoft VS Code\\Code.exe      N/A      |\n",
      "|    0   N/A  N/A           15012    C+G   ...IA App\\CEF\\NVIDIA Overlay.exe      N/A      |\n",
      "|    0   N/A  N/A           16328    C+G   ...4__cv1g1gvanyjgm\\WhatsApp.exe      N/A      |\n",
      "|    0   N/A  N/A           16352      C   ...s\\Python\\Python312\\python.exe      N/A      |\n",
      "|    0   N/A  N/A           17332    C+G   ...h_cw5n1h2txyewy\\SearchApp.exe      N/A      |\n",
      "+-----------------------------------------------------------------------------------------+\n"
     ]
    }
   ],
   "source": [
    "!nvidia-smi"
   ]
  },
  {
   "cell_type": "code",
   "execution_count": 12,
   "id": "c66da46f",
   "metadata": {},
   "outputs": [
    {
     "name": "stdout",
     "output_type": "stream",
     "text": [
      "Available GPU memory: 6 GB\n"
     ]
    }
   ],
   "source": [
    "gpu_memory_bytes = torch.cuda.get_device_properties(0).total_memory\n",
    "gpu_memory_gb = round(gpu_memory_bytes / (2**30))\n",
    "print(f\"Available GPU memory: {gpu_memory_gb} GB\")"
   ]
  },
  {
   "cell_type": "code",
   "execution_count": 13,
   "id": "9c1f64be",
   "metadata": {},
   "outputs": [
    {
     "name": "stdout",
     "output_type": "stream",
     "text": [
      "GPU memory: 6 | Recommended model: Gemma 2B in 4-bit precision.\n",
      "use_quantization_config set to: True\n",
      "model_id set to: google/gemma-2b-it\n"
     ]
    }
   ],
   "source": [
    "# Note: the following is Gemma focused, however, there are more and more LLMs of the 2B and 7B size appearing for local use.\n",
    "if gpu_memory_gb < 5.1:\n",
    "    print(f\"Your available GPU memory is {gpu_memory_gb}GB, you may not have enough memory to run a Gemma LLM locally without quantization.\")\n",
    "    use_quantization_config = True \n",
    "    model_id = None\n",
    "elif gpu_memory_gb < 8.1:\n",
    "    print(f\"GPU memory: {gpu_memory_gb} | Recommended model: Gemma 2B in 4-bit precision.\")\n",
    "    use_quantization_config = True \n",
    "    model_id = \"google/gemma-2b-it\"\n",
    "elif gpu_memory_gb < 19.0:\n",
    "    print(f\"GPU memory: {gpu_memory_gb} | Recommended model: Gemma 2B in float16 or Gemma 7B in 4-bit precision.\")\n",
    "    use_quantization_config = False \n",
    "    model_id = \"google/gemma-2b-it\"\n",
    "elif gpu_memory_gb > 19.0:\n",
    "    print(f\"GPU memory: {gpu_memory_gb} | Recommend model: Gemma 7B in 4-bit or float16 precision.\")\n",
    "    use_quantization_config = False \n",
    "    model_id = \"google/gemma-7b-it\"\n",
    "\n",
    "print(f\"use_quantization_config set to: {use_quantization_config}\")\n",
    "print(f\"model_id set to: {model_id}\")"
   ]
  },
  {
   "cell_type": "code",
   "execution_count": null,
   "id": "9b68b2cc",
   "metadata": {},
   "outputs": [
    {
     "data": {
      "application/vnd.jupyter.widget-view+json": {
       "model_id": "de6d0a8193544004ba3d0503e8f1d8c2",
       "version_major": 2,
       "version_minor": 0
      },
      "text/plain": [
       "VBox(children=(HTML(value='<center> <img\\nsrc=https://huggingface.co/front/assets/huggingface_logo-noborder.sv…"
      ]
     },
     "metadata": {},
     "output_type": "display_data"
    }
   ],
   "source": [
    "#log in to hugging face using the token id to download the model\n",
    "from huggingface_hub import login\n",
    "login()"
   ]
  },
  {
   "cell_type": "code",
   "execution_count": 14,
   "id": "e42547b8",
   "metadata": {},
   "outputs": [
    {
     "name": "stdout",
     "output_type": "stream",
     "text": [
      "[INFO] Loading google/gemma-2b-it in 4-bit...\n"
     ]
    },
    {
     "data": {
      "application/vnd.jupyter.widget-view+json": {
       "model_id": "92628e027151408b9d2f5299046f5a2b",
       "version_major": 2,
       "version_minor": 0
      },
      "text/plain": [
       "Loading checkpoint shards:   0%|          | 0/2 [00:00<?, ?it/s]"
      ]
     },
     "metadata": {},
     "output_type": "display_data"
    }
   ],
   "source": [
    "import torch\n",
    "from transformers import AutoTokenizer, AutoModelForCausalLM, BitsAndBytesConfig\n",
    "\n",
    "# --- Settings ---\n",
    "model_id = \"google/gemma-2b-it\"   # instruction-tuned 2B\n",
    "attn_implementation = \"eager\"     # or \"sdpa\" if your stack supports it\n",
    "\n",
    "# 4-bit quantization config (saves VRAM)\n",
    "quantization_config = BitsAndBytesConfig(\n",
    "    load_in_4bit=True,\n",
    "    bnb_4bit_compute_dtype=torch.float16,  # compute in fp16\n",
    ")\n",
    "\n",
    "print(f\"[INFO] Loading {model_id} in 4-bit...\")\n",
    "\n",
    "# Tokenizer\n",
    "tokenizer = AutoTokenizer.from_pretrained(model_id)\n",
    "\n",
    "\n",
    "llm_model = AutoModelForCausalLM.from_pretrained(\n",
    "    model_id,\n",
    "    quantization_config=quantization_config,\n",
    "    low_cpu_mem_usage=False,\n",
    "    attn_implementation=attn_implementation,\n",
    ")"
   ]
  },
  {
   "cell_type": "code",
   "execution_count": 15,
   "id": "cffa54d9",
   "metadata": {},
   "outputs": [
    {
     "data": {
      "text/plain": [
       "(device(type='cuda', index=0),\n",
       " GemmaForCausalLM(\n",
       "   (model): GemmaModel(\n",
       "     (embed_tokens): Embedding(256000, 2048, padding_idx=0)\n",
       "     (layers): ModuleList(\n",
       "       (0-17): 18 x GemmaDecoderLayer(\n",
       "         (self_attn): GemmaAttention(\n",
       "           (q_proj): Linear4bit(in_features=2048, out_features=2048, bias=False)\n",
       "           (k_proj): Linear4bit(in_features=2048, out_features=256, bias=False)\n",
       "           (v_proj): Linear4bit(in_features=2048, out_features=256, bias=False)\n",
       "           (o_proj): Linear4bit(in_features=2048, out_features=2048, bias=False)\n",
       "         )\n",
       "         (mlp): GemmaMLP(\n",
       "           (gate_proj): Linear4bit(in_features=2048, out_features=16384, bias=False)\n",
       "           (up_proj): Linear4bit(in_features=2048, out_features=16384, bias=False)\n",
       "           (down_proj): Linear4bit(in_features=16384, out_features=2048, bias=False)\n",
       "           (act_fn): GELUActivation()\n",
       "         )\n",
       "         (input_layernorm): GemmaRMSNorm((2048,), eps=1e-06)\n",
       "         (post_attention_layernorm): GemmaRMSNorm((2048,), eps=1e-06)\n",
       "       )\n",
       "     )\n",
       "     (norm): GemmaRMSNorm((2048,), eps=1e-06)\n",
       "     (rotary_emb): GemmaRotaryEmbedding()\n",
       "   )\n",
       "   (lm_head): Linear(in_features=2048, out_features=256000, bias=False)\n",
       " ))"
      ]
     },
     "execution_count": 15,
     "metadata": {},
     "output_type": "execute_result"
    }
   ],
   "source": [
    "llm_model.device ,llm_model"
   ]
  },
  {
   "cell_type": "code",
   "execution_count": 16,
   "id": "276a2279",
   "metadata": {},
   "outputs": [
    {
     "data": {
      "text/plain": [
       "1515268096"
      ]
     },
     "execution_count": 16,
     "metadata": {},
     "output_type": "execute_result"
    }
   ],
   "source": [
    "def get_model_num_params(model: torch.nn.Module):\n",
    "    return sum([param.numel() for param in model.parameters()])\n",
    "\n",
    "get_model_num_params(llm_model)"
   ]
  },
  {
   "cell_type": "code",
   "execution_count": 17,
   "id": "63bb185f",
   "metadata": {},
   "outputs": [
    {
     "data": {
      "text/plain": [
       "{'model_mem_bytes': 2039632384, 'model_mem_mb': 1945.15, 'model_mem_gb': 1.9}"
      ]
     },
     "execution_count": 17,
     "metadata": {},
     "output_type": "execute_result"
    }
   ],
   "source": [
    "def get_model_mem_size(model: torch.nn.Module):\n",
    "    \"\"\"\n",
    "    Get how much memory a PyTorch model takes up.\n",
    "\n",
    "    See: https://discuss.pytorch.org/t/gpu-memory-that-model-uses/56822\n",
    "    \"\"\"\n",
    "    # Get model parameters and buffer sizes\n",
    "    mem_params = sum([param.nelement() * param.element_size() for param in model.parameters()])\n",
    "    mem_buffers = sum([buf.nelement() * buf.element_size() for buf in model.buffers()])\n",
    "\n",
    "    # Calculate various model sizes\n",
    "    model_mem_bytes = mem_params + mem_buffers # in bytes\n",
    "    model_mem_mb = model_mem_bytes / (1024**2) # in megabytes\n",
    "    model_mem_gb = model_mem_bytes / (1024**3) # in gigabytes\n",
    "\n",
    "    return {\"model_mem_bytes\": model_mem_bytes,\n",
    "            \"model_mem_mb\": round(model_mem_mb, 2),\n",
    "            \"model_mem_gb\": round(model_mem_gb, 2)}\n",
    "\n",
    "get_model_mem_size(llm_model)"
   ]
  },
  {
   "cell_type": "code",
   "execution_count": 18,
   "id": "d483ef85",
   "metadata": {},
   "outputs": [
    {
     "name": "stdout",
     "output_type": "stream",
     "text": [
      "Input text:\n",
      "how is the vice president elected and what role does the parliament in electing the vice president?\n",
      "\n",
      "Prompt (formatted):\n",
      "<bos><start_of_turn>user\n",
      "how is the vice president elected and what role does the parliament in electing the vice president?<end_of_turn>\n",
      "<start_of_turn>model\n",
      "\n"
     ]
    }
   ],
   "source": [
    "#testing\n",
    "\n",
    "input_text = \"how is the vice president elected and what role does the parliament in electing the vice president?\"\n",
    "print(f\"Input text:\\n{input_text}\")\n",
    "\n",
    "# Create prompt template for instruction-tuned model\n",
    "dialogue_template = [\n",
    "    {\"role\": \"user\",\n",
    "     \"content\": input_text}\n",
    "]\n",
    "\n",
    "# Apply the chat template\n",
    "prompt = tokenizer.apply_chat_template(conversation=dialogue_template,\n",
    "                                       tokenize=False, # keep as raw text (not tokenized)\n",
    "                                       add_generation_prompt=True)\n",
    "print(f\"\\nPrompt (formatted):\\n{prompt}\")"
   ]
  },
  {
   "cell_type": "code",
   "execution_count": 19,
   "id": "341ee35f",
   "metadata": {},
   "outputs": [
    {
     "name": "stdout",
     "output_type": "stream",
     "text": [
      "Model input (tokenized):\n",
      "{'input_ids': tensor([[     2,      2,    106,   1645,    108,   1139,    603,    573,  16832,\n",
      "           9456,  17710,    578,   1212,   4731,   1721,    573,  28191,    575,\n",
      "         182690,    573,  16832,   9456, 235336,    107,    108,    106,   2516,\n",
      "            108]], device='cuda:0'), 'attention_mask': tensor([[1, 1, 1, 1, 1, 1, 1, 1, 1, 1, 1, 1, 1, 1, 1, 1, 1, 1, 1, 1, 1, 1, 1, 1,\n",
      "         1, 1, 1, 1]], device='cuda:0')}\n",
      "\n",
      "Model output (tokens):\n",
      "tensor([     2,      2,    106,   1645,    108,   1139,    603,    573,  16832,\n",
      "          9456,  17710,    578,   1212,   4731,   1721,    573,  28191,    575,\n",
      "        182690,    573,  16832,   9456, 235336,    107,    108,    106,   2516,\n",
      "           108,  21404, 235269,   1517, 235303, 235256,    476,  25497,    576,\n",
      "          1368,    573,  17939,   6021,    603,  17710,    578,    573,   4731,\n",
      "           576,    573,  17685,    575, 182690,    573,  17939,   6021, 235292,\n",
      "           109,    688, 235274, 235265, 180632,    731,    573,   6021,  66058,\n",
      "           109, 235290,    714,   6021,    576,   5339,  16330,   1204,    476,\n",
      "          1552,    577,   3831,    573,  17939,   6021, 235265,    108, 235290,\n",
      "           714,  47284,   9286,    573,   6021, 235303, 235256,   5952,  15560,\n",
      "           578,    603,   5091,    577,    573,   8111,    576,    573,  14774,\n",
      "          8846,    578,    573,  37928, 235265,    109,    688, 235284, 235265,\n",
      "         43797,    731,    573,  17685,  66058,    109, 235290,    714,  17939,\n",
      "          6021,    603,  17710,    731,    573,  32102,  91431,    591,   1175,\n",
      "          4581,   3036,    576,    573,   6481,  17685, 235275,    731,    476,\n",
      "         10898,   8744, 235265,    108, 235290,    586,   3890,  10898,    603,\n",
      "          3690,    604,    476,   8385,  11621, 235265,    108, 235290,    714,\n",
      "         17939,   6021,    603,  17710,    604,    476,   4105, 235290,   4085,\n",
      "          5168, 235269,    675,    573,  13879,    576,    476,   7725,    576,\n",
      "          1378,   4563, 235265,    109,    688, 235304, 235265,   8182, 204843,\n",
      "         66058,    109, 235290,    714,  17939,   6021,    603,  17710,    575,\n",
      "           476,   7401,  43738, 235269,   6996,    674,    573,  12852,    576,\n",
      "           573,  53570,    603,    780,  12570, 235265,    108, 235290,    714,\n",
      "         25059,   5548,   2040,    575,    476,  23692,  20864,    575,    573,\n",
      "         17685, 235265,    109,    688, 235310, 235265,  95855,    731,    573,\n",
      "         17685,  66058,    109, 235290,    714,  17710,  17939,   6021,    603,\n",
      "          1492,  44001,  11261,    578,  12392,    731,    573,  17685, 235265,\n",
      "           108, 235290,    586,  10898,   8744,    603,   3690,    604,  28768,\n",
      "        235265,    109,    688, 235308, 235265, 135468,    576,   7006,  66058,\n",
      "           109, 235290,    714,  18519,  17710,  17939,   6021,   5548,    573,\n",
      "         41465,    576,   4844,    575,    573,   8566,    576,    573,   6021,\n",
      "           578,    573,  17939,   6021, 235265], device='cuda:0')\n",
      "\n",
      "CPU times: total: 16 s\n",
      "Wall time: 17.3 s\n"
     ]
    }
   ],
   "source": [
    "%%time\n",
    "\n",
    "# Tokenize the input text (turn it into numbers) and send it to GPU\n",
    "input_ids = tokenizer(prompt, return_tensors=\"pt\").to(\"cuda\")\n",
    "print(f\"Model input (tokenized):\\n{input_ids}\\n\")\n",
    "\n",
    "# Generate outputs passed on the tokenized input\n",
    "outputs = llm_model.generate(**input_ids,\n",
    "                             max_new_tokens=256) # define the maximum number of new tokens to create\n",
    "print(f\"Model output (tokens):\\n{outputs[0]}\\n\")"
   ]
  },
  {
   "cell_type": "code",
   "execution_count": 20,
   "id": "8ca1f93b",
   "metadata": {},
   "outputs": [
    {
     "name": "stdout",
     "output_type": "stream",
     "text": [
      "Model output (decoded):\n",
      "<bos><bos><start_of_turn>user\n",
      "how is the vice president elected and what role does the parliament in electing the vice president?<end_of_turn>\n",
      "<start_of_turn>model\n",
      "Sure, here's a breakdown of how the Vice President is elected and the role of the Parliament in electing the Vice President:\n",
      "\n",
      "**1. Nomination by the President:**\n",
      "\n",
      "- The President of India nominates a person to become the Vice President.\n",
      "- The nomination requires the President's written approval and is subject to the advice of the Prime Minister and the Cabinet.\n",
      "\n",
      "**2. Election by the Parliament:**\n",
      "\n",
      "- The Vice President is elected by the Lok Sabha (the lower house of the Indian Parliament) by a majority vote.\n",
      "- A simple majority is required for a successful election.\n",
      "- The Vice President is elected for a five-year term, with the possibility of a maximum of two terms.\n",
      "\n",
      "**3. Secret Ballot:**\n",
      "\n",
      "- The Vice President is elected in a secret ballot, meaning that the identity of the voter is not revealed.\n",
      "- The voting takes place in a designated chamber in the Parliament.\n",
      "\n",
      "**4. Confirmation by the Parliament:**\n",
      "\n",
      "- The elected Vice President is then formally introduced and confirmed by the Parliament.\n",
      "- A majority vote is required for confirmation.\n",
      "\n",
      "**5. Oath of Office:**\n",
      "\n",
      "- The newly elected Vice President takes the oath of office in the presence of the President and the Vice President.\n",
      "\n"
     ]
    }
   ],
   "source": [
    "# Decode the output tokens to text\n",
    "outputs_decoded = tokenizer.decode(outputs[0])\n",
    "print(f\"Model output (decoded):\\n{outputs_decoded}\\n\")"
   ]
  },
  {
   "cell_type": "code",
   "execution_count": 21,
   "id": "dbeed8ef",
   "metadata": {},
   "outputs": [
    {
     "name": "stdout",
     "output_type": "stream",
     "text": [
      "Input text: how is the vice president elected and what role does the parliament in electing the vice president?\n",
      "\n",
      "Output text:\n",
      "Sure, here's a breakdown of how the Vice President is elected and the role of the Parliament in electing the Vice President:\n",
      "\n",
      "**1. Nomination by the President:**\n",
      "\n",
      "- The President of India nominates a person to become the Vice President.\n",
      "- The nomination requires the President's written approval and is subject to the advice of the Prime Minister and the Cabinet.\n",
      "\n",
      "**2. Election by the Parliament:**\n",
      "\n",
      "- The Vice President is elected by the Lok Sabha (the lower house of the Indian Parliament) by a majority vote.\n",
      "- A simple majority is required for a successful election.\n",
      "- The Vice President is elected for a five-year term, with the possibility of a maximum of two terms.\n",
      "\n",
      "**3. Secret Ballot:**\n",
      "\n",
      "- The Vice President is elected in a secret ballot, meaning that the identity of the voter is not revealed.\n",
      "- The voting takes place in a designated chamber in the Parliament.\n",
      "\n",
      "**4. Confirmation by the Parliament:**\n",
      "\n",
      "- The elected Vice President is then formally introduced and confirmed by the Parliament.\n",
      "- A majority vote is required for confirmation.\n",
      "\n",
      "**5. Oath of Office:**\n",
      "\n",
      "- The newly elected Vice President takes the oath of office in the presence of the President and the Vice President.\n"
     ]
    }
   ],
   "source": [
    "#format better \n",
    "print(f\"Input text: {input_text}\\n\")\n",
    "print(f\"Output text:\\n{outputs_decoded.replace(prompt, '').replace('<bos>', '').replace('<eos>', '')}\")"
   ]
  },
  {
   "cell_type": "code",
   "execution_count": 22,
   "id": "edad47b5",
   "metadata": {},
   "outputs": [],
   "source": [
    "query_list = [\n",
    "    \"What does the Preamble of the Indian Constitution declare about justice, liberty, equality, and fraternity?\",\n",
    "    \"How can Parliament form new states or alter the boundaries of existing states under Part I?\",\n",
    "    \"What were the provisions regarding citizenship at the commencement of the Constitution?\",\n",
    "    \"Which Fundamental Rights are guaranteed under the Right to Equality?\",\n",
    "    \"What Directive Principles guide the State in securing equal pay for equal work?\",\n",
    "    \"Why is the Preamble considered the soul of the Constitution of India?\",\n",
    "    \"How do Articles 5 to 11 reflect the framers' approach towards citizenship?\",\n",
    "    \"In what ways do Fundamental Rights ensure limitations on the power of the State?\",\n",
    "    \"How are Fundamental Duties different from Directive Principles of State Policy?\",\n",
    "    \"What role does Article 32 play in making the Fundamental Rights enforceable?\",\n",
    "]"
   ]
  },
  {
   "cell_type": "code",
   "execution_count": 23,
   "id": "a0a85d58",
   "metadata": {},
   "outputs": [
    {
     "name": "stdout",
     "output_type": "stream",
     "text": [
      "Query: How can Parliament form new states or alter the boundaries of existing states under Part I?\n",
      "[INFO] Time taken to get scores on 294 embeddings: 0.00006 seconds.\n"
     ]
    },
    {
     "data": {
      "text/plain": [
       "(tensor([4.2529, 3.8914, 3.6986, 3.6867, 3.6737], device='cuda:0'),\n",
       " tensor([  2, 151, 112,  26, 201], device='cuda:0'))"
      ]
     },
     "execution_count": 23,
     "metadata": {},
     "output_type": "execute_result"
    }
   ],
   "source": [
    "import random\n",
    "query = random.choice(query_list)\n",
    "\n",
    "print(f\"Query: {query}\")\n",
    "\n",
    "# Get just the scores and indices of top related results\n",
    "scores, indices = retrieve_relevant_resources(query=query,\n",
    "                                              embeddings=embeddings)\n",
    "scores, indices"
   ]
  },
  {
   "cell_type": "code",
   "execution_count": 24,
   "id": "d80ce3fe",
   "metadata": {},
   "outputs": [],
   "source": [
    "def prompt_formatter(query: str, \n",
    "                     context_items: list[dict]) -> str:\n",
    "    \"\"\"\n",
    "    Augments query with text-based context from context_items.\n",
    "    \"\"\"\n",
    "    # Join context items into one dotted paragraph\n",
    "    context = \"- \" + \"\\n- \".join([item[\"text\"] for item in context_items])\n",
    "\n",
    "    # Create a base prompt with examples to help the model\n",
    "    # Note: this is very customizable, I've chosen to use 3 examples of the answer style we'd like.\n",
    "    # We could also write this in a txt file and import it in if we wanted.\n",
    "    base_prompt = \"\"\"Based on the following context items, please answer the query.\n",
    "    Give yourself room to think by extracting relevant passages from the context before answering the query.\n",
    "    Don't return the thinking, only return the answer.\n",
    "    Make sure your answers are clear, detailed, and explanatory, using examples from the Constitution wherever possible.\n",
    "    Use the following examples as reference for the ideal answer style.\n",
    "\n",
    "    Example 1:\n",
    "    Query: What does the Preamble of the Indian Constitution declare?\n",
    "    Answer: The Preamble declares India to be a Sovereign, Socialist, Secular, Democratic Republic. It secures to all citizens Justice—social, economic, and political; Liberty of thought, expression, belief, faith, and worship; Equality of status and opportunity; and Fraternity assuring the dignity of the individual and the unity and integrity of the Nation. It was adopted on 26 November 1949, reflecting the vision of the Constituent Assembly.\n",
    "\n",
    "    Example 2:\n",
    "    Query: How can new states be created or existing states altered under the Constitution?\n",
    "    Answer: Articles 2 and 3 empower Parliament to admit new states, establish states, or alter existing states’ boundaries, names, or areas. For such changes, a bill must be introduced on the recommendation of the President, and if it affects any state’s area, boundaries, or name, the President must refer it to the concerned state legislature for its views. However, Parliament is not bound to accept the state’s opinion, ensuring flexibility in India’s federal structure.\n",
    "\n",
    "    Example 3:\n",
    "    Query: What are Fundamental Rights, and why are they important?\n",
    "    Answer: Fundamental Rights, enshrined in Part III (Articles 12–35), guarantee essential freedoms like equality before law, freedom of speech, protection of life and liberty, and the right to constitutional remedies. They act as limitations on state power and safeguard individual dignity. For instance, Article 32 empowers citizens to directly approach the Supreme Court for enforcement of rights, making these provisions justiciable and enforceable.\n",
    "\n",
    "    Now use the following context items to answer the user query:\n",
    "    {context}\n",
    "\n",
    "    Relevant passages: <extract relevant passages from the context here>\n",
    "    User query: {query}\n",
    "    Answer:\"\"\"\n",
    "\n",
    "    # Update base prompt with context items and query   \n",
    "    base_prompt = base_prompt.format(context=context, query=query)\n",
    "\n",
    "    # Create prompt template for instruction-tuned model\n",
    "    dialogue_template = [\n",
    "        {\"role\": \"user\",\n",
    "        \"content\": base_prompt}\n",
    "    ]\n",
    "\n",
    "    # Apply the chat template\n",
    "    prompt = tokenizer.apply_chat_template(conversation=dialogue_template,\n",
    "                                          tokenize=False,#to get the output prompt of this function as a text and not a tokenized version\n",
    "                                          add_generation_prompt=True)\n",
    "    return prompt\n",
    "    \n"
   ]
  },
  {
   "cell_type": "code",
   "execution_count": 27,
   "id": "4c4b4a68",
   "metadata": {},
   "outputs": [
    {
     "name": "stdout",
     "output_type": "stream",
     "text": [
      "Query: What were the provisions regarding citizenship at the commencement of the Constitution?\n",
      "[INFO] Time taken to get scores on 294 embeddings: 0.00007 seconds.\n",
      "<bos><start_of_turn>user\n",
      "Based on the following context items, please answer the query.\n",
      "    Give yourself room to think by extracting relevant passages from the context before answering the query.\n",
      "    Don't return the thinking, only return the answer.\n",
      "    Make sure your answers are clear, detailed, and explanatory, using examples from the Constitution wherever possible.\n",
      "    Use the following examples as reference for the ideal answer style.\n",
      "\n",
      "    Example 1:\n",
      "    Query: What does the Preamble of the Indian Constitution declare?\n",
      "    Answer: The Preamble declares India to be a Sovereign, Socialist, Secular, Democratic Republic. It secures to all citizens Justice—social, economic, and political; Liberty of thought, expression, belief, faith, and worship; Equality of status and opportunity; and Fraternity assuring the dignity of the individual and the unity and integrity of the Nation. It was adopted on 26 November 1949, reflecting the vision of the Constituent Assembly.\n",
      "\n",
      "    Example 2:\n",
      "    Query: How can new states be created or existing states altered under the Constitution?\n",
      "    Answer: Articles 2 and 3 empower Parliament to admit new states, establish states, or alter existing states’ boundaries, names, or areas. For such changes, a bill must be introduced on the recommendation of the President, and if it affects any state’s area, boundaries, or name, the President must refer it to the concerned state legislature for its views. However, Parliament is not bound to accept the state’s opinion, ensuring flexibility in India’s federal structure.\n",
      "\n",
      "    Example 3:\n",
      "    Query: What are Fundamental Rights, and why are they important?\n",
      "    Answer: Fundamental Rights, enshrined in Part III (Articles 12–35), guarantee essential freedoms like equality before law, freedom of speech, protection of life and liberty, and the right to constitutional remedies. They act as limitations on state power and safeguard individual dignity. For instance, Article 32 empowers citizens to directly approach the Supreme Court for enforcement of rights, making these provisions justiciable and enforceable.\n",
      "\n",
      "    Now use the following context items to answer the user query:\n",
      "    - PART II\n",
      "CITIZENSHIP\n",
      "5. Citizenship at the commencement of the Constitution.—At the \n",
      "commencement of this Constitution, every person who has his domicile in the \n",
      "territory of India and—\n",
      "(a) who was born in the territory of India; or \n",
      "(b) either of whose parents was born in the territory of India; or\n",
      "(c) who has been ordinarily resident in the territory of India for \n",
      "not less than five years immediately preceding such commencement,  \n",
      "shall be a citizen of India. 6. Rights of citizenship of certain persons who have migrated to \n",
      "India from Pakistan.—Notwithstanding anything in article 5, a person who \n",
      "has migrated to the territory of India from the territory now included in \n",
      "Pakistan shall be deemed to be a citizen of India at the commencement of this \n",
      "Constitution if—\n",
      "(a) he or either of his parents or any of his grand-parents was born \n",
      "in India as defined in the Government of India Act, 1935 (as originally \n",
      "enacted); and\n",
      "(b)(i) in the case where such person has so migrated before the \n",
      "nineteenth day of July, 1948, he has been ordinarily resident in the \n",
      "territory of India since the date of his migration, or\n",
      "(ii) in the case where such person has so migrated on or after the \n",
      "nineteenth day of July, 1948, he has been registered as a citizen of India \n",
      "by an officer appointed in that behalf by the Government of the \n",
      "Dominion of India on an application made by him therefor to such \n",
      "officer before the commencement of this Constitution in the form and \n",
      "manner prescribed by that Government:\n",
      "Provided that no person shall be so registered unless he has been resident \n",
      "in the territory of India for at least six months immediately preceding the date \n",
      "of his application.\n",
      "- PART XX\n",
      "AMENDMENT OF THE CONSTITUTION\n",
      "368. \n",
      "1[Power of Parliament to amend the Constitution and \n",
      "procedure therefor].— 2[(1) Notwithstanding anything in this Constitution, \n",
      "Parliament may in exercise of its constituent power amend by way of addition, \n",
      "variation or repeal any provision of this Constitution in accordance with the \n",
      "procedure laid down in this article.] \n",
      "3[(2)] An amendment of this Constitution may be initiated only by the \n",
      "introduction of a Bill for the purpose in either House of Parliament, and when \n",
      "the Bill is passed in each House by a majority of the total membership of that \n",
      "House and by a majority of not less than two-thirds of the members of that \n",
      "House present and voting, 4[it shall be presented to the President who shall give \n",
      "his assent to the Bill and thereupon] the Constitution shall stand amended in \n",
      "accordance with the terms of the Bill:\n",
      "Provided that if such amendment seeks to make any change in—\n",
      "(a) article 54, article 55, article 73, 5[ article 162, article 241 or \n",
      "article 279A]; or\n",
      "  (b) Chapter IV of Part V, Chapter V of Part VI, or Chapter I of Part XI; or\n",
      "(c) any of the Lists in the Seventh Schedule; or\n",
      "(d) the representation of States in Parliament; or\n",
      "(e) the provisions of this article,\n",
      "(Part XX.—Amendment of the Constitution)\n",
      "the amendment shall also require to be ratified by the Legislatures of not less \n",
      "than one-half of the States 1*** by resolutions to that effect passed by those \n",
      "Legislatures before the Bill making provision for such amendment is presented \n",
      "to the President for assent.\n",
      "2[(3) Nothing in article 13 shall apply to any amendment made under this \n",
      "article.]\n",
      "3[(4) No  amendment  of  this Constitution (including the provisions of \n",
      "Part III) made or purporting to have been made under this article [whether before \n",
      "or after the commencement of section 55 of the Constitution (Forty-second \n",
      "Amendment) Act, 1976] shall be called in question in any court on any ground.\n",
      "(5) For the removal of doubts, it is hereby declared that there shall be no \n",
      "limitation whatever on the constituent power of Parliament to amend by way of \n",
      "addition, variation or repeal the provisions of this Constitution under this article.]\n",
      "- 7. Rights of citizenship of certain migrants to Pakistan.—\n",
      "Notwithstanding anything in articles 5 and 6, a person who has after the first \n",
      "day of March, 1947, migrated from the territory of India to the territory now \n",
      "included in Pakistan shall not be deemed to be a citizen of India:\n",
      "(Part II.—Citizenship)\n",
      "Provided that nothing in this article shall apply to a person who, after \n",
      "having so migrated to the territory now included in Pakistan, has returned to the \n",
      "territory of India under a permit for resettlement or permanent return issued by \n",
      "or under the authority of any law and every such person shall for the purposes \n",
      "of clause (b) of article 6 be deemed to have migrated to the territory of India \n",
      "after the nineteenth day of July, 1948. 8. Rights of citizenship of certain persons of Indian origin residing \n",
      "outside India.—Notwithstanding anything in article 5, any person who or \n",
      "either of whose parents or any of whose grand-parents was born in India as \n",
      "defined in the Government of India Act, 1935 (as originally enacted), and who \n",
      "is ordinarily residing in any country outside India as so defined shall be deemed \n",
      "to be a citizen of India if he has been registered as a citizen of India by the \n",
      "diplomatic or consular representative of India in the country where he is for the \n",
      "time being residing on an application made by him therefor to such diplomatic \n",
      "or consular representative, whether before or after the commencement of this \n",
      "Constitution, in the form and manner prescribed by the Government of the \n",
      "Dominion of India or the Government of India. 9. Persons voluntarily acquiring citizenship of a foreign State not to \n",
      "be citizens.—No person shall be a citizen of India by virtue of article 5, or be \n",
      "deemed to be a citizen of India by virtue of article 6 or article 8, if he has \n",
      "voluntarily acquired the citizenship of any foreign State. 10. Continuance of the rights of citizenship.—Every person who is or \n",
      "is deemed to be a citizen of India under any of the foregoing provisions of this \n",
      "Part shall, subject to the provisions of any law that may be made by Parliament, \n",
      "continue to be such citizen. 11. Parliament to regulate the right of citizenship by law.—Nothing \n",
      "in the foregoing provisions of this Part shall derogate from the power of \n",
      "Parliament to make any provision with respect to the acquisition and \n",
      "termination of citizenship and all other matters relating to citizenship.\n",
      "- (Part III.—Fundamental Rights)\n",
      "(6) Nothing in sub-clause (g) of the said clause shall affect the operation \n",
      "of any existing law in so far as it imposes, or prevent the State from making \n",
      "any law imposing, in the interests of the general public, reasonable restrictions \n",
      "on the exercise of the right conferred by the said sub-clause, and, in particular, \n",
      "1[nothing in the said sub-clause shall affect the operation of any existing law in \n",
      "so far as it relates to, or prevent the State from making any law relating to,—\n",
      "(i) the professional or technical qualifications necessary for practising \n",
      "any profession or carrying on any occupation, trade or business; or\n",
      "(ii) the carrying on by the State, or by a corporation owned or \n",
      "controlled by the State, of any trade, business, industry or service, \n",
      "whether to the exclusion, complete or partial, of citizens or otherwise.] 20. Protection in respect of conviction for offences.—(1) No person \n",
      "shall be convicted of any offence except for violation of a law in force at the \n",
      "time of the commission of the Act charged as an offence, nor be subjected to a \n",
      "penalty greater than that which might have been inflicted under the law in force \n",
      "at the time of the commission of the offence.\n",
      "(2) No person shall be prosecuted and punished for the same offence \n",
      "more than once.\n",
      "(3) No person accused of any offence shall be compelled to be a witness \n",
      "against himself. 21. Protection of life and personal liberty.—No person shall be \n",
      "deprived of his life or personal liberty except according to procedure \n",
      "established by law.\n",
      "2[21A. Right to education.—The State shall provide free and \n",
      "compulsory education to all children of the age of six to fourteen years in such \n",
      "manner as the State may,  by law,  determine.]\n",
      "- 336. Special provision for Anglo-Indian community in certain \n",
      "services.—(1) During the first two years after the commencement of this \n",
      "Constitution, appointments of members of the Anglo-Indian community to posts \n",
      "in the railway, customs, postal and telegraph services of the Union shall be made \n",
      "on the same basis as immediately before the fifteenth day of August, 1947. \n",
      "During every succeeding period of two years, the number of posts \n",
      "reserved for the members of the said community in the said services shall, as \n",
      "nearly as possible, be less by ten per cent. than the numbers so reserved during \n",
      "the immediately preceding period of two years:\n",
      "Provided that at the end of ten years from the commencement of this \n",
      "Constitution all such reservations shall cease.\n",
      "(2) Nothing in clause (1) shall bar the appointment of members of the \n",
      "Anglo-Indian community to posts other than, or in addition to, those reserved \n",
      "for the community under that clause if such members are found qualified for \n",
      "appointment on merit as compared with the members of other communities. 337. Special provision with respect to educational grants for the \n",
      "benefit of Anglo-Indian community.—During the first three financial years \n",
      "after the commencement of this Constitution, the same grants, if any, shall be \n",
      "made by the Union and by each State 2*** for the benefit of the Anglo-Indian \n",
      "community in respect of education as were made in the financial year ending \n",
      "on the thirty-first day of March, 1948.\n",
      "During every succeeding period of three years the grants may be less by \n",
      "ten per cent. than those for the immediately preceding period of three years:\n",
      "Provided that at the end of ten years from the commencement of this \n",
      "Constitution such grants, to the extent to which they are a special concession to \n",
      "the Anglo-Indian community, shall cease:\n",
      "Provided further that no educational institution shall be entitled to \n",
      "receive any grant under this article unless at least forty per cent. of the annual \n",
      "admissions therein are made available to members of communities other than \n",
      "the Anglo-Indian community.\n",
      "(Part XVI.—Special Provisions Relating to Certain Classes)\n",
      "\n",
      "    Relevant passages: <extract relevant passages from the context here>\n",
      "    User query: What were the provisions regarding citizenship at the commencement of the Constitution?\n",
      "    Answer:<end_of_turn>\n",
      "<start_of_turn>model\n",
      "\n"
     ]
    }
   ],
   "source": [
    "query = random.choice(query_list)\n",
    "print(f\"Query: {query}\")\n",
    "\n",
    "# Get relevant resources\n",
    "scores, indices = retrieve_relevant_resources(query=query,\n",
    "                                              embeddings=embeddings)\n",
    "    \n",
    "# Create a list of context items\n",
    "context_items = [constitution_and_chunks[i] for i in indices]\n",
    "\n",
    "# Format prompt with context items\n",
    "prompt = prompt_formatter(query=query,\n",
    "                          context_items=context_items)\n",
    "print(prompt)#this is why we gave tokenize = False in the prompt_formatter function"
   ]
  },
  {
   "cell_type": "code",
   "execution_count": 28,
   "id": "6cb73963",
   "metadata": {},
   "outputs": [
    {
     "name": "stdout",
     "output_type": "stream",
     "text": [
      "Query: What were the provisions regarding citizenship at the commencement of the Constitution?\n",
      "RAG answer:\n",
      "<bos>Sure, here's the answer to the user's query:\n",
      "\n",
      "The relevant passage from the context is:\n",
      "> **PART II.—Citizenship**\n",
      "\n",
      "According to the passage, every person who has his domicile in the territory of India and—\n",
      "(a) who was born in the territory of India; or\n",
      "(b) either of whose parents or any of his grand-parents was born in India as defined in the Government of India Act, 1935 (as originally enacted); or\n",
      "(c) who has been ordinarily resident in the territory of India for not less than five years immediately preceding the date of his application.<eos>\n",
      "CPU times: total: 31.7 s\n",
      "Wall time: 31.7 s\n"
     ]
    }
   ],
   "source": [
    "%%time\n",
    "\n",
    "input_ids = tokenizer(prompt, return_tensors=\"pt\").to(\"cuda\")\n",
    "\n",
    "# Generate an output of tokens\n",
    "outputs = llm_model.generate(**input_ids,\n",
    "                             temperature=0.7, # lower temperature = more deterministic outputs, higher temperature = more creative outputs\n",
    "                             do_sample=True, \n",
    "                             max_new_tokens=500) # how many new tokens to generate from prompt \n",
    "\n",
    "# Turn the output tokens into text\n",
    "output_text = tokenizer.decode(outputs[0])\n",
    "\n",
    "print(f\"Query: {query}\")\n",
    "print(f\"RAG answer:\\n{output_text.replace(prompt, '')}\")"
   ]
  },
  {
   "cell_type": "code",
   "execution_count": null,
   "id": "5de9c7d2",
   "metadata": {},
   "outputs": [],
   "source": []
  },
  {
   "cell_type": "code",
   "execution_count": null,
   "id": "20d612ff",
   "metadata": {},
   "outputs": [],
   "source": []
  },
  {
   "cell_type": "code",
   "execution_count": null,
   "id": "58051397",
   "metadata": {},
   "outputs": [],
   "source": []
  },
  {
   "cell_type": "code",
   "execution_count": null,
   "id": "7e7723c1",
   "metadata": {},
   "outputs": [],
   "source": []
  },
  {
   "cell_type": "code",
   "execution_count": null,
   "id": "8836cd86",
   "metadata": {},
   "outputs": [],
   "source": []
  },
  {
   "cell_type": "code",
   "execution_count": null,
   "id": "ad5bdb58",
   "metadata": {},
   "outputs": [],
   "source": []
  },
  {
   "cell_type": "code",
   "execution_count": null,
   "id": "be0eb6b0",
   "metadata": {},
   "outputs": [],
   "source": []
  },
  {
   "cell_type": "markdown",
   "id": "a36686f4",
   "metadata": {},
   "source": []
  }
 ],
 "metadata": {
  "kernelspec": {
   "display_name": "const_env (3.12.9)",
   "language": "python",
   "name": "python3"
  },
  "language_info": {
   "codemirror_mode": {
    "name": "ipython",
    "version": 3
   },
   "file_extension": ".py",
   "mimetype": "text/x-python",
   "name": "python",
   "nbconvert_exporter": "python",
   "pygments_lexer": "ipython3",
   "version": "3.12.9"
  }
 },
 "nbformat": 4,
 "nbformat_minor": 5
}
