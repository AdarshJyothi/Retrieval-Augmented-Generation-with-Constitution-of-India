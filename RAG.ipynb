{
 "cells": [
  {
   "cell_type": "markdown",
   "id": "73491958",
   "metadata": {},
   "source": []
  },
  {
   "cell_type": "code",
   "execution_count": 1,
   "id": "3b68b199",
   "metadata": {},
   "outputs": [],
   "source": [
    "import random\n",
    "import pandas as pd\n",
    "import numpy as np\n",
    "import torch"
   ]
  },
  {
   "cell_type": "code",
   "execution_count": 2,
   "id": "f0efced4",
   "metadata": {},
   "outputs": [
    {
     "data": {
      "text/plain": [
       "torch.Size([328, 768])"
      ]
     },
     "execution_count": 2,
     "metadata": {},
     "output_type": "execute_result"
    }
   ],
   "source": [
    "device = \"cuda\" if torch.cuda.is_available() else \"cpu\"\n",
    "\n",
    "\n",
    "# Import embeddings_df\n",
    "constitution = pd.read_csv(\"constitution_embeddings.csv\")\n",
    "\n",
    "\n",
    "# Convert embedding column back to np.array (it got converted to string when it got saved to CSV)\n",
    "constitution[\"embedding\"] = constitution[\"embedding\"].apply(lambda x: np.fromstring(x.strip(\"[]\"), sep=\" \"))\n",
    "\n",
    "# Convert texts and embedding df to list of dicts- this is later needed once we find those embedding indices with top similarity to the input to map back to the text.\n",
    "constitution_and_chunks = constitution.to_dict(orient=\"records\") # each row becomes a dicttionary and all these becomes a list of dicts. records => each row is a dictionary\n",
    "\n",
    "# Convert embeddings to torch tensor and send to device (note: NumPy arrays are float64, torch tensors are float32 by default)\n",
    "embeddings = torch.tensor(np.array(constitution[\"embedding\"].tolist()), dtype=torch.float32).to(device)\n",
    "embeddings.shape"
   ]
  },
  {
   "cell_type": "code",
   "execution_count": 3,
   "id": "d85b6059",
   "metadata": {},
   "outputs": [
    {
     "data": {
      "text/html": [
       "<div>\n",
       "<style scoped>\n",
       "    .dataframe tbody tr th:only-of-type {\n",
       "        vertical-align: middle;\n",
       "    }\n",
       "\n",
       "    .dataframe tbody tr th {\n",
       "        vertical-align: top;\n",
       "    }\n",
       "\n",
       "    .dataframe thead th {\n",
       "        text-align: right;\n",
       "    }\n",
       "</style>\n",
       "<table border=\"1\" class=\"dataframe\">\n",
       "  <thead>\n",
       "    <tr style=\"text-align: right;\">\n",
       "      <th></th>\n",
       "      <th>section</th>\n",
       "      <th>text</th>\n",
       "      <th>token_count</th>\n",
       "      <th>embedding</th>\n",
       "    </tr>\n",
       "  </thead>\n",
       "  <tbody>\n",
       "    <tr>\n",
       "      <th>0</th>\n",
       "      <td>Preamble</td>\n",
       "      <td>PREAMBLE\\nWE, THE PEOPLE OF INDIA, having sole...</td>\n",
       "      <td>262.0</td>\n",
       "      <td>[-0.0839646682, -0.136351988, -0.0832696706, 0...</td>\n",
       "    </tr>\n",
       "    <tr>\n",
       "      <th>1</th>\n",
       "      <td>Part I.—Union and its territory</td>\n",
       "      <td>2. Admission or establishment of new States.—P...</td>\n",
       "      <td>402.0</td>\n",
       "      <td>[0.109954573, -0.485572308, -0.0691309795, 0.0...</td>\n",
       "    </tr>\n",
       "    <tr>\n",
       "      <th>2</th>\n",
       "      <td>Part I.—Union and its territory</td>\n",
       "      <td>4. Laws made under articles 2 and 3 to provide...</td>\n",
       "      <td>270.0</td>\n",
       "      <td>[0.102438278, 0.0082724588, -0.182920516, 0.14...</td>\n",
       "    </tr>\n",
       "    <tr>\n",
       "      <th>3</th>\n",
       "      <td>Part II.—Citizenship</td>\n",
       "      <td>6. Rights of citizenship of certain persons wh...</td>\n",
       "      <td>440.0</td>\n",
       "      <td>[-0.0783850774, 0.0436395667, -0.112444967, 0....</td>\n",
       "    </tr>\n",
       "    <tr>\n",
       "      <th>4</th>\n",
       "      <td>Part II.—Citizenship</td>\n",
       "      <td>8. Rights of citizenship of certain persons of...</td>\n",
       "      <td>353.0</td>\n",
       "      <td>[0.00527101196, 0.0731148869, -0.104214944, 0....</td>\n",
       "    </tr>\n",
       "  </tbody>\n",
       "</table>\n",
       "</div>"
      ],
      "text/plain": [
       "                           section  \\\n",
       "0                         Preamble   \n",
       "1  Part I.—Union and its territory   \n",
       "2  Part I.—Union and its territory   \n",
       "3             Part II.—Citizenship   \n",
       "4             Part II.—Citizenship   \n",
       "\n",
       "                                                text  token_count  \\\n",
       "0  PREAMBLE\\nWE, THE PEOPLE OF INDIA, having sole...        262.0   \n",
       "1  2. Admission or establishment of new States.—P...        402.0   \n",
       "2  4. Laws made under articles 2 and 3 to provide...        270.0   \n",
       "3  6. Rights of citizenship of certain persons wh...        440.0   \n",
       "4  8. Rights of citizenship of certain persons of...        353.0   \n",
       "\n",
       "                                           embedding  \n",
       "0  [-0.0839646682, -0.136351988, -0.0832696706, 0...  \n",
       "1  [0.109954573, -0.485572308, -0.0691309795, 0.0...  \n",
       "2  [0.102438278, 0.0082724588, -0.182920516, 0.14...  \n",
       "3  [-0.0783850774, 0.0436395667, -0.112444967, 0....  \n",
       "4  [0.00527101196, 0.0731148869, -0.104214944, 0....  "
      ]
     },
     "execution_count": 3,
     "metadata": {},
     "output_type": "execute_result"
    }
   ],
   "source": [
    "constitution.head()"
   ]
  },
  {
   "cell_type": "markdown",
   "id": "53cafbab",
   "metadata": {},
   "source": [
    "## Semantic Search"
   ]
  },
  {
   "cell_type": "code",
   "execution_count": 4,
   "id": "8176564f",
   "metadata": {},
   "outputs": [],
   "source": [
    "#call the model\n",
    "from sentence_transformers import util, SentenceTransformer #util is for dot product\n",
    "\n",
    "# embedding_model = SentenceTransformer(model_name_or_path=\"all-mpnet-base-v2\",device = device)\n",
    "embedding_model = SentenceTransformer(model_name_or_path=\"multi-qa-mpnet-base-dot-v1\",device = device)"
   ]
  },
  {
   "cell_type": "code",
   "execution_count": 5,
   "id": "70073478",
   "metadata": {},
   "outputs": [
    {
     "name": "stdout",
     "output_type": "stream",
     "text": [
      "Query : elections\n",
      "Time taken to get scores on 328 embeddings : 0.04644 seconds.\n"
     ]
    },
    {
     "data": {
      "text/plain": [
       "torch.return_types.topk(\n",
       "values=tensor([21.8624, 21.0167, 20.5999, 20.0945, 19.7239], device='cuda:0'),\n",
       "indices=tensor([ 60,  73, 156,  74,  42], device='cuda:0'))"
      ]
     },
     "execution_count": 5,
     "metadata": {},
     "output_type": "execute_result"
    }
   ],
   "source": [
    "query = \"elections\"\n",
    "print(f'Query : {query}')\n",
    "\n",
    "#embed the query\n",
    "q_embed = embedding_model.encode(query,convert_to_tensor = True)\n",
    "\n",
    "#get similarity scores with dot product\n",
    "##to time this \n",
    "from time import perf_counter as timer \n",
    "\n",
    "start_time = timer()\n",
    "dot_scores = util.dot_score(a= q_embed,b= embeddings)[0]\n",
    "end_time = timer()\n",
    "\n",
    "print(f'Time taken to get scores on {len(embeddings)} embeddings : {end_time-start_time:.5f} seconds.')\n",
    "\n",
    "#get top k=5 results\n",
    "top_results = torch.topk(dot_scores,k=5)\n",
    "top_results\n"
   ]
  },
  {
   "cell_type": "code",
   "execution_count": 6,
   "id": "04f83540",
   "metadata": {},
   "outputs": [],
   "source": [
    "import textwrap\n",
    "\n",
    "#whatever text you give , this with return a wrapped version of it\n",
    "def print_wrapped(text,wrap_length = 80)  :\n",
    "    wrapped_text = textwrap.fill(text,wrap_length)\n",
    "    print(wrapped_text)"
   ]
  },
  {
   "cell_type": "code",
   "execution_count": 7,
   "id": "f7612ea9",
   "metadata": {},
   "outputs": [
    {
     "name": "stdout",
     "output_type": "stream",
     "text": [
      "Query: 'elections'\n",
      "\n",
      "Results:\n",
      "Score: 21.8624\n",
      "Text:\n",
      "243ZK. Election of members of board.—(1) Notwithstanding anything  contained in\n",
      "any law made by the Legislature of a State, the election of a board  shall be\n",
      "conducted before the expiry of the term of the board so as to ensure  that the\n",
      "newly elected members of the board assume office immediately on the  expiry of\n",
      "the office of members of the outgoing board. (2) The superintendence, direction\n",
      "and control of the preparation of  electoral rolls for, and the conduct of, all\n",
      "elections to a co-operative society  shall vest in such an authority or body, as\n",
      "may be provided by the Legislature  of a State, by law: Provided that the\n",
      "Legislature of a State may, by law, provide for the  procedure and guidelines\n",
      "for the conduct of such elections.\n",
      "section : Part IXB.—Co-operative Societies\n",
      "\n",
      "\n",
      "Score: 21.0167\n",
      "Text:\n",
      "PART XV ELECTIONS 324. Superintendence, direction and control of elections to be\n",
      "vested  in an Election Commission.—(1) The superintendence, direction and\n",
      "control  of the preparation of the electoral rolls for, and the conduct of, all\n",
      "elections to  Parliament and to the Legislature of every State and of elections\n",
      "to the offices  of President and Vice-President held under this Constitution\n",
      "1*** shall be  vested in a Commission (referred to in this Constitution as the\n",
      "Election  Commission). (2) The Election Commission shall consist of the Chief\n",
      "Election  Commissioner and such number of other Election Commissioners, if any,\n",
      "as the  President may from time to time fix and the appointment of the Chief\n",
      "Election  Commissioner and other Election Commissioners shall, subject to the\n",
      "provisions  of any law made in that behalf by Parliament, be made by the\n",
      "President. (3) When any other Election Commissioner is so appointed the Chief\n",
      "Election Commissioner shall act as the Chairman of the Election Commission. (4)\n",
      "Before each general election to the House of the People and to the  Legislative\n",
      "Assembly of each State, and before the first general election and  thereafter\n",
      "before each biennial election to the Legislative Council of each State  having\n",
      "such Council, the President may also appoint after consultation with the\n",
      "Election Commission such Regional Commissioners as he may consider  necessary to\n",
      "assist the Election Commission in the performance of the  functions conferred on\n",
      "the Commission by clause (1). (5) Subject to the provisions of any law made by\n",
      "Parliament, the conditions  of service and tenure of office of the Election\n",
      "Commissioners and the Regional  Commissioners shall be such as the President may\n",
      "by rule determine: Provided that the Chief Election Commissioner shall not be\n",
      "removed  from his office except in like manner and on the like grounds as a\n",
      "Judge of the  Supreme Court and the conditions of service of the Chief Election\n",
      "Commissioner shall not be varied to his disadvantage after his appointment:\n",
      "(Part XV.—Elections) Provided further that any other Election Commissioner or a\n",
      "Regional  Commissioner shall not be removed from office except on the\n",
      "recommendation  of the Chief Election Commissioner.\n",
      "section : Part XV.—Elections\n",
      "\n",
      "\n",
      "Score: 20.5999\n",
      "Text:\n",
      "62. Time of holding election to fill vacancy in the office of President  and the\n",
      "term of office of person elected to fill casual vacancy.—(1) An  election to\n",
      "fill a vacancy caused by the expiration of the term of office of  President\n",
      "shall be completed before the expiration of the term.  (2) An election to fill a\n",
      "vacancy in the office of President occurring by  reason of his death,\n",
      "resignation or removal, or otherwise shall be held as soon  as possible after,\n",
      "and in no case later than six months from, the date of  occurrence of the\n",
      "vacancy; and the person elected to fill the vacancy shall,  subject to the\n",
      "provisions of article 56, be entitled to hold office for the full term  of five\n",
      "years from the date on which he enters upon his office. 63. The Vice-President\n",
      "of India.—There shall be a Vice-President of India.\n",
      "section : Part V.—The Union\n",
      "\n",
      "\n",
      "Score: 20.0945\n",
      "Text:\n",
      "(6) The President, or the Governor 1*** of a State, shall, when so  requested by\n",
      "the Election Commission, make available to the Election  Commission or to a\n",
      "Regional Commissioner such staff as may be necessary for  the discharge of the\n",
      "functions conferred on the Election Commission by     clause (1). 325. No person\n",
      "to be ineligible for inclusion in, or to claim to be  included in a special,\n",
      "electoral roll on grounds of religion, race, caste or  sex.—There shall be one\n",
      "general electoral roll for every territorial constituency  for election to\n",
      "either House of Parliament or to the House or either House of the  Legislature\n",
      "of a State and no person shall be ineligible for inclusion in any such  roll or\n",
      "claim to be included in any special electoral roll for any such  constituency on\n",
      "grounds only of religion, race, caste, sex or any of them. 326. Elections to the\n",
      "House of the People and to the Legislative  Assemblies of States to be on the\n",
      "basis of adult suffrage.—The elections to  the House of the People and to the\n",
      "Legislative Assembly of every State shall be  on the basis of adult suffrage;\n",
      "that is to say, every person who is a citizen of  India and who is not less than\n",
      "2[eighteen years] of age on such date as may be  fixed in that behalf by or\n",
      "under any law made by the appropriate Legislature  and is not otherwise\n",
      "disqualified under this Constitution or any law made by  the appropriate\n",
      "Legislature on the ground of non-residence, unsoundness of  mind, crime or\n",
      "corrupt or illegal practice, shall be entitled to be registered as a  voter at\n",
      "any such election. 327. Power of Parliament to make provision with respect to\n",
      "elections  to Legislatures.—Subject to the provisions of this Constitution,\n",
      "Parliament  may from time to time by law make provision with respect to all\n",
      "matters  relating to, or in connection with, elections to either House of\n",
      "Parliament or to  the House or either House of the Legislature of a State\n",
      "including the  preparation of electoral rolls, the delimitation of\n",
      "constituencies and all other  matters necessary for securing  the due\n",
      "constitution of such House or Houses. (Part XV.—Elections)\n",
      "section : Part XV.—Elections\n",
      "\n",
      "\n",
      "Score: 19.7239\n",
      "Text:\n",
      "243K. Elections to the Panchayats.—(1) The superintendence,  direction and\n",
      "control of the preparation of electoral rolls for, and the conduct  of, all\n",
      "elections to the Panchayats shall be vested in a State Election  Commission\n",
      "consisting of a State Election Commissioner to be appointed by  the Governor.\n",
      "(2) Subject to the provisions of any law made by the Legislature of a  State,\n",
      "the conditions of service and tenure of office of the State Election\n",
      "Commissioner shall be such as the Governor may by rule determine: Provided that\n",
      "the State Election Commissioner shall not be removed  from his office except in\n",
      "like manner and on the like grounds as a Judge of a  High Court and the\n",
      "conditions of service of the State Election Commissioner  shall not be varied to\n",
      "his disadvantage after his appointment. (Part IX.—The Panchayats) (3) The\n",
      "Governor of a State shall, when so requested by the State  Election Commission,\n",
      "make available to the State Election Commission such  staff as may be necessary\n",
      "for the discharge of the functions conferred on the  State Election Commission\n",
      "by clause (1).  (4) Subject to the provisions of this Constitution, the\n",
      "Legislature of a  State may, by law, make provision with respect to all matters\n",
      "relating to, or in  connection with, elections to the Panchayats.\n",
      "section : Part IX.—The Panchayats\n",
      "\n",
      "\n"
     ]
    }
   ],
   "source": [
    "print(f\"Query: '{query}'\\n\")\n",
    "print(\"Results:\")\n",
    "\n",
    "#zip them together and loop over to print\n",
    "for score,idx in zip(top_results[0],top_results[1]) :\n",
    "    print(f\"Score: {score:.4f}\")\n",
    "    print(\"Text:\")\n",
    "    #get the text from dict and print as wrapped\n",
    "    print_wrapped(constitution_and_chunks[idx][\"text\"])\n",
    "    #print the part as well as well\n",
    "    print(f\"section : {constitution_and_chunks[idx][\"section\"]}\")\n",
    "    print(\"\\n\")\n"
   ]
  },
  {
   "cell_type": "markdown",
   "id": "9f04ed7d",
   "metadata": {},
   "source": [
    "## Functionizing the semantic search pipline"
   ]
  },
  {
   "cell_type": "code",
   "execution_count": 8,
   "id": "23ceea62",
   "metadata": {},
   "outputs": [],
   "source": [
    "def retrieve_relevant_resources(query: str,\n",
    "                                embeddings: torch.tensor,\n",
    "                                model: SentenceTransformer=embedding_model,\n",
    "                                n_resources_to_return: int=5,\n",
    "                                print_time: bool=True):\n",
    "    \"\"\"\n",
    "    Embeds a query with model and returns top k scores and indices from embeddings.\n",
    "    \"\"\"\n",
    "\n",
    "    # Embed the query\n",
    "    query_embedding = model.encode(query, \n",
    "                                   convert_to_tensor=True) \n",
    "\n",
    "    # Get dot product scores on embeddings\n",
    "    start_time = timer()\n",
    "    dot_scores = util.dot_score(query_embedding, embeddings)[0]\n",
    "    end_time = timer()\n",
    "\n",
    "    if print_time:\n",
    "        print(f\"[INFO] Time taken to get scores on {len(embeddings)} embeddings: {end_time-start_time:.5f} seconds.\")\n",
    "\n",
    "    scores, indices = torch.topk(input=dot_scores, \n",
    "                                 k=n_resources_to_return)\n",
    "\n",
    "    return scores, indices\n",
    "\n",
    "def print_top_results_and_scores(query: str,\n",
    "                                 embeddings: torch.tensor,\n",
    "                                 constitution_and_chunks: list[dict]=constitution_and_chunks,\n",
    "                                 n_resources_to_return: int=5):\n",
    "    \"\"\"\n",
    "    Takes a query, retrieves most relevant resources and prints them out in descending order.\n",
    "\n",
    "    Note: Since constitution_and_chunks is a list of dictionaries, it requires constitution_and_chunks to be formatted in a specific way (see above for reference).\n",
    "    \"\"\"\n",
    "    \n",
    "    scores, indices = retrieve_relevant_resources(query=query,\n",
    "                                                  embeddings=embeddings,\n",
    "                                                  n_resources_to_return=n_resources_to_return)\n",
    "    \n",
    "    print(f\"Query: {query}\\n\")\n",
    "    print(\"Results:\")\n",
    "    # Loop through zipped together scores and indicies\n",
    "    for score, index in zip(scores, indices):\n",
    "        print(f\"Score: {score:.4f}\")\n",
    "        # Print relevant text chunk (since the scores are in descending order, the most relevant chunk will be first)\n",
    "        print_wrapped(constitution_and_chunks[idx][\"text\"])\n",
    "        #print the part as well as well\n",
    "        print(f\"section : {constitution_and_chunks[idx][\"section\"]}\")\n",
    "        print(\"\\n\")\n",
    "\n"
   ]
  },
  {
   "cell_type": "code",
   "execution_count": 9,
   "id": "ac428b06",
   "metadata": {},
   "outputs": [
    {
     "name": "stdout",
     "output_type": "stream",
     "text": [
      "[INFO] Time taken to get scores on 328 embeddings: 0.00008 seconds.\n"
     ]
    },
    {
     "data": {
      "text/plain": [
       "(tensor([28.7046, 28.3813, 27.7816, 27.6494, 27.4177], device='cuda:0'),\n",
       " tensor([34, 39, 35, 36, 42], device='cuda:0'))"
      ]
     },
     "execution_count": 9,
     "metadata": {},
     "output_type": "execute_result"
    }
   ],
   "source": [
    "#testing the function-1\n",
    "query = \"panchayat\"\n",
    "\n",
    "# Get just the scores and indices of top related results\n",
    "scores, indices = retrieve_relevant_resources(query=query,\n",
    "                                              embeddings=embeddings)\n",
    "scores, indices"
   ]
  },
  {
   "cell_type": "code",
   "execution_count": 10,
   "id": "3d833315",
   "metadata": {},
   "outputs": [
    {
     "name": "stdout",
     "output_type": "stream",
     "text": [
      "[INFO] Time taken to get scores on 328 embeddings: 0.00007 seconds.\n",
      "Query: panchayat\n",
      "\n",
      "Results:\n",
      "Score: 28.7046\n",
      "243K. Elections to the Panchayats.—(1) The superintendence,  direction and\n",
      "control of the preparation of electoral rolls for, and the conduct  of, all\n",
      "elections to the Panchayats shall be vested in a State Election  Commission\n",
      "consisting of a State Election Commissioner to be appointed by  the Governor.\n",
      "(2) Subject to the provisions of any law made by the Legislature of a  State,\n",
      "the conditions of service and tenure of office of the State Election\n",
      "Commissioner shall be such as the Governor may by rule determine: Provided that\n",
      "the State Election Commissioner shall not be removed  from his office except in\n",
      "like manner and on the like grounds as a Judge of a  High Court and the\n",
      "conditions of service of the State Election Commissioner  shall not be varied to\n",
      "his disadvantage after his appointment. (Part IX.—The Panchayats) (3) The\n",
      "Governor of a State shall, when so requested by the State  Election Commission,\n",
      "make available to the State Election Commission such  staff as may be necessary\n",
      "for the discharge of the functions conferred on the  State Election Commission\n",
      "by clause (1).  (4) Subject to the provisions of this Constitution, the\n",
      "Legislature of a  State may, by law, make provision with respect to all matters\n",
      "relating to, or in  connection with, elections to the Panchayats.\n",
      "section : Part IX.—The Panchayats\n",
      "\n",
      "\n",
      "Score: 28.3813\n",
      "243K. Elections to the Panchayats.—(1) The superintendence,  direction and\n",
      "control of the preparation of electoral rolls for, and the conduct  of, all\n",
      "elections to the Panchayats shall be vested in a State Election  Commission\n",
      "consisting of a State Election Commissioner to be appointed by  the Governor.\n",
      "(2) Subject to the provisions of any law made by the Legislature of a  State,\n",
      "the conditions of service and tenure of office of the State Election\n",
      "Commissioner shall be such as the Governor may by rule determine: Provided that\n",
      "the State Election Commissioner shall not be removed  from his office except in\n",
      "like manner and on the like grounds as a Judge of a  High Court and the\n",
      "conditions of service of the State Election Commissioner  shall not be varied to\n",
      "his disadvantage after his appointment. (Part IX.—The Panchayats) (3) The\n",
      "Governor of a State shall, when so requested by the State  Election Commission,\n",
      "make available to the State Election Commission such  staff as may be necessary\n",
      "for the discharge of the functions conferred on the  State Election Commission\n",
      "by clause (1).  (4) Subject to the provisions of this Constitution, the\n",
      "Legislature of a  State may, by law, make provision with respect to all matters\n",
      "relating to, or in  connection with, elections to the Panchayats.\n",
      "section : Part IX.—The Panchayats\n",
      "\n",
      "\n",
      "Score: 27.7816\n",
      "243K. Elections to the Panchayats.—(1) The superintendence,  direction and\n",
      "control of the preparation of electoral rolls for, and the conduct  of, all\n",
      "elections to the Panchayats shall be vested in a State Election  Commission\n",
      "consisting of a State Election Commissioner to be appointed by  the Governor.\n",
      "(2) Subject to the provisions of any law made by the Legislature of a  State,\n",
      "the conditions of service and tenure of office of the State Election\n",
      "Commissioner shall be such as the Governor may by rule determine: Provided that\n",
      "the State Election Commissioner shall not be removed  from his office except in\n",
      "like manner and on the like grounds as a Judge of a  High Court and the\n",
      "conditions of service of the State Election Commissioner  shall not be varied to\n",
      "his disadvantage after his appointment. (Part IX.—The Panchayats) (3) The\n",
      "Governor of a State shall, when so requested by the State  Election Commission,\n",
      "make available to the State Election Commission such  staff as may be necessary\n",
      "for the discharge of the functions conferred on the  State Election Commission\n",
      "by clause (1).  (4) Subject to the provisions of this Constitution, the\n",
      "Legislature of a  State may, by law, make provision with respect to all matters\n",
      "relating to, or in  connection with, elections to the Panchayats.\n",
      "section : Part IX.—The Panchayats\n",
      "\n",
      "\n",
      "Score: 27.6494\n",
      "243K. Elections to the Panchayats.—(1) The superintendence,  direction and\n",
      "control of the preparation of electoral rolls for, and the conduct  of, all\n",
      "elections to the Panchayats shall be vested in a State Election  Commission\n",
      "consisting of a State Election Commissioner to be appointed by  the Governor.\n",
      "(2) Subject to the provisions of any law made by the Legislature of a  State,\n",
      "the conditions of service and tenure of office of the State Election\n",
      "Commissioner shall be such as the Governor may by rule determine: Provided that\n",
      "the State Election Commissioner shall not be removed  from his office except in\n",
      "like manner and on the like grounds as a Judge of a  High Court and the\n",
      "conditions of service of the State Election Commissioner  shall not be varied to\n",
      "his disadvantage after his appointment. (Part IX.—The Panchayats) (3) The\n",
      "Governor of a State shall, when so requested by the State  Election Commission,\n",
      "make available to the State Election Commission such  staff as may be necessary\n",
      "for the discharge of the functions conferred on the  State Election Commission\n",
      "by clause (1).  (4) Subject to the provisions of this Constitution, the\n",
      "Legislature of a  State may, by law, make provision with respect to all matters\n",
      "relating to, or in  connection with, elections to the Panchayats.\n",
      "section : Part IX.—The Panchayats\n",
      "\n",
      "\n",
      "Score: 27.4177\n",
      "243K. Elections to the Panchayats.—(1) The superintendence,  direction and\n",
      "control of the preparation of electoral rolls for, and the conduct  of, all\n",
      "elections to the Panchayats shall be vested in a State Election  Commission\n",
      "consisting of a State Election Commissioner to be appointed by  the Governor.\n",
      "(2) Subject to the provisions of any law made by the Legislature of a  State,\n",
      "the conditions of service and tenure of office of the State Election\n",
      "Commissioner shall be such as the Governor may by rule determine: Provided that\n",
      "the State Election Commissioner shall not be removed  from his office except in\n",
      "like manner and on the like grounds as a Judge of a  High Court and the\n",
      "conditions of service of the State Election Commissioner  shall not be varied to\n",
      "his disadvantage after his appointment. (Part IX.—The Panchayats) (3) The\n",
      "Governor of a State shall, when so requested by the State  Election Commission,\n",
      "make available to the State Election Commission such  staff as may be necessary\n",
      "for the discharge of the functions conferred on the  State Election Commission\n",
      "by clause (1).  (4) Subject to the provisions of this Constitution, the\n",
      "Legislature of a  State may, by law, make provision with respect to all matters\n",
      "relating to, or in  connection with, elections to the Panchayats.\n",
      "section : Part IX.—The Panchayats\n",
      "\n",
      "\n"
     ]
    }
   ],
   "source": [
    "#test function-2 : Print out the texts of the top scores\n",
    "print_top_results_and_scores(query=query,\n",
    "                             embeddings=embeddings)"
   ]
  },
  {
   "cell_type": "markdown",
   "id": "26f1258e",
   "metadata": {},
   "source": [
    "## LLM "
   ]
  },
  {
   "cell_type": "code",
   "execution_count": 11,
   "id": "d9eff3a1",
   "metadata": {},
   "outputs": [
    {
     "name": "stdout",
     "output_type": "stream",
     "text": [
      "Wed Sep  3 15:12:41 2025       \n",
      "+-----------------------------------------------------------------------------------------+\n",
      "| NVIDIA-SMI 576.52                 Driver Version: 576.52         CUDA Version: 12.9     |\n",
      "|-----------------------------------------+------------------------+----------------------+\n",
      "| GPU  Name                  Driver-Model | Bus-Id          Disp.A | Volatile Uncorr. ECC |\n",
      "| Fan  Temp   Perf          Pwr:Usage/Cap |           Memory-Usage | GPU-Util  Compute M. |\n",
      "|                                         |                        |               MIG M. |\n",
      "|=========================================+========================+======================|\n",
      "|   0  NVIDIA GeForce GTX 1660 ...  WDDM  |   00000000:01:00.0  On |                  N/A |\n",
      "| 31%   43C    P2             32W /  125W |    1282MiB /   6144MiB |     19%      Default |\n",
      "|                                         |                        |                  N/A |\n",
      "+-----------------------------------------+------------------------+----------------------+\n",
      "                                                                                         \n",
      "+-----------------------------------------------------------------------------------------+\n",
      "| Processes:                                                                              |\n",
      "|  GPU   GI   CI              PID   Type   Process name                        GPU Memory |\n",
      "|        ID   ID                                                               Usage      |\n",
      "|=========================================================================================|\n",
      "|    0   N/A  N/A            1140    C+G   ...ms\\Microsoft VS Code\\Code.exe      N/A      |\n",
      "|    0   N/A  N/A            1964    C+G   ...y\\StartMenuExperienceHost.exe      N/A      |\n",
      "|    0   N/A  N/A            2200    C+G   ...5n1h2txyewy\\TextInputHost.exe      N/A      |\n",
      "|    0   N/A  N/A            2896    C+G   ...ntrolPanel\\SystemSettings.exe      N/A      |\n",
      "|    0   N/A  N/A            3008    C+G   ...h_cw5n1h2txyewy\\SearchApp.exe      N/A      |\n",
      "|    0   N/A  N/A            3492    C+G   ...4__cv1g1gvanyjgm\\WhatsApp.exe      N/A      |\n",
      "|    0   N/A  N/A            6508    C+G   C:\\Windows\\explorer.exe               N/A      |\n",
      "|    0   N/A  N/A            7860    C+G   ...IA App\\CEF\\NVIDIA Overlay.exe      N/A      |\n",
      "|    0   N/A  N/A           13492    C+G   ...h_cw5n1h2txyewy\\SearchApp.exe      N/A      |\n",
      "|    0   N/A  N/A           13804    C+G   ...Chrome\\Application\\chrome.exe      N/A      |\n",
      "|    0   N/A  N/A           15228    C+G   ...IA App\\CEF\\NVIDIA Overlay.exe      N/A      |\n",
      "|    0   N/A  N/A           15856      C   ...s\\Python\\Python312\\python.exe      N/A      |\n",
      "|    0   N/A  N/A           16572    C+G   ...0.3405.125\\msedgewebview2.exe      N/A      |\n",
      "|    0   N/A  N/A           16688    C+G   ...8bbwe\\PhoneExperienceHost.exe      N/A      |\n",
      "|    0   N/A  N/A           17056    C+G   ...Chrome\\Application\\chrome.exe      N/A      |\n",
      "+-----------------------------------------------------------------------------------------+\n"
     ]
    }
   ],
   "source": [
    "!nvidia-smi"
   ]
  },
  {
   "cell_type": "code",
   "execution_count": 12,
   "id": "c66da46f",
   "metadata": {},
   "outputs": [
    {
     "name": "stdout",
     "output_type": "stream",
     "text": [
      "Available GPU memory: 6 GB\n"
     ]
    }
   ],
   "source": [
    "gpu_memory_bytes = torch.cuda.get_device_properties(0).total_memory\n",
    "gpu_memory_gb = round(gpu_memory_bytes / (2**30))\n",
    "print(f\"Available GPU memory: {gpu_memory_gb} GB\")"
   ]
  },
  {
   "cell_type": "code",
   "execution_count": 13,
   "id": "9c1f64be",
   "metadata": {},
   "outputs": [
    {
     "name": "stdout",
     "output_type": "stream",
     "text": [
      "GPU memory: 6 | Recommended model: Gemma 2B in 4-bit precision.\n",
      "use_quantization_config set to: True\n",
      "model_id set to: google/gemma-2b-it\n"
     ]
    }
   ],
   "source": [
    "# Note: the following is Gemma focused, however, there are more and more LLMs of the 2B and 7B size appearing for local use.\n",
    "if gpu_memory_gb < 5.1:\n",
    "    print(f\"Your available GPU memory is {gpu_memory_gb}GB, you may not have enough memory to run a Gemma LLM locally without quantization.\")\n",
    "    use_quantization_config = True \n",
    "    model_id = None\n",
    "elif gpu_memory_gb < 8.1:\n",
    "    print(f\"GPU memory: {gpu_memory_gb} | Recommended model: Gemma 2B in 4-bit precision.\")\n",
    "    use_quantization_config = True \n",
    "    model_id = \"google/gemma-2b-it\"\n",
    "elif gpu_memory_gb < 19.0:\n",
    "    print(f\"GPU memory: {gpu_memory_gb} | Recommended model: Gemma 2B in float16 or Gemma 7B in 4-bit precision.\")\n",
    "    use_quantization_config = False \n",
    "    model_id = \"google/gemma-2b-it\"\n",
    "elif gpu_memory_gb > 19.0:\n",
    "    print(f\"GPU memory: {gpu_memory_gb} | Recommend model: Gemma 7B in 4-bit or float16 precision.\")\n",
    "    use_quantization_config = False \n",
    "    model_id = \"google/gemma-7b-it\"\n",
    "\n",
    "print(f\"use_quantization_config set to: {use_quantization_config}\")\n",
    "print(f\"model_id set to: {model_id}\")"
   ]
  },
  {
   "cell_type": "code",
   "execution_count": 14,
   "id": "9b68b2cc",
   "metadata": {},
   "outputs": [
    {
     "data": {
      "application/vnd.jupyter.widget-view+json": {
       "model_id": "0bb309c7372a432fbb3c7795b96ed5b9",
       "version_major": 2,
       "version_minor": 0
      },
      "text/plain": [
       "VBox(children=(HTML(value='<center> <img\\nsrc=https://huggingface.co/front/assets/huggingface_logo-noborder.sv…"
      ]
     },
     "metadata": {},
     "output_type": "display_data"
    }
   ],
   "source": [
    "from huggingface_hub import login\n",
    "login()"
   ]
  },
  {
   "cell_type": "code",
   "execution_count": 15,
   "id": "e42547b8",
   "metadata": {},
   "outputs": [
    {
     "name": "stdout",
     "output_type": "stream",
     "text": [
      "[INFO] Loading google/gemma-2b-it in 4-bit...\n"
     ]
    },
    {
     "data": {
      "application/vnd.jupyter.widget-view+json": {
       "model_id": "e75fc880da43403c9e7979892cb50247",
       "version_major": 2,
       "version_minor": 0
      },
      "text/plain": [
       "Loading checkpoint shards:   0%|          | 0/2 [00:00<?, ?it/s]"
      ]
     },
     "metadata": {},
     "output_type": "display_data"
    }
   ],
   "source": [
    "import torch\n",
    "from transformers import AutoTokenizer, AutoModelForCausalLM, BitsAndBytesConfig\n",
    "\n",
    "# --- Settings ---\n",
    "model_id = \"google/gemma-2b-it\"   # instruction-tuned 2B\n",
    "attn_implementation = \"eager\"     # or \"sdpa\" if your stack supports it\n",
    "\n",
    "# 4-bit quantization config (saves VRAM)\n",
    "quantization_config = BitsAndBytesConfig(\n",
    "    load_in_4bit=True,\n",
    "    bnb_4bit_compute_dtype=torch.float16,  # compute in fp16\n",
    ")\n",
    "\n",
    "print(f\"[INFO] Loading {model_id} in 4-bit...\")\n",
    "\n",
    "# Tokenizer\n",
    "tokenizer = AutoTokenizer.from_pretrained(model_id)\n",
    "\n",
    "# Model (device_map='auto' places weights on GPU/CPU as needed)\n",
    "llm_model = AutoModelForCausalLM.from_pretrained(\n",
    "    model_id,\n",
    "    quantization_config=quantization_config,\n",
    "    low_cpu_mem_usage=False,\n",
    "    attn_implementation=attn_implementation,\n",
    ")"
   ]
  },
  {
   "cell_type": "code",
   "execution_count": 16,
   "id": "cffa54d9",
   "metadata": {},
   "outputs": [
    {
     "data": {
      "text/plain": [
       "(device(type='cuda', index=0),\n",
       " GemmaForCausalLM(\n",
       "   (model): GemmaModel(\n",
       "     (embed_tokens): Embedding(256000, 2048, padding_idx=0)\n",
       "     (layers): ModuleList(\n",
       "       (0-17): 18 x GemmaDecoderLayer(\n",
       "         (self_attn): GemmaAttention(\n",
       "           (q_proj): Linear4bit(in_features=2048, out_features=2048, bias=False)\n",
       "           (k_proj): Linear4bit(in_features=2048, out_features=256, bias=False)\n",
       "           (v_proj): Linear4bit(in_features=2048, out_features=256, bias=False)\n",
       "           (o_proj): Linear4bit(in_features=2048, out_features=2048, bias=False)\n",
       "         )\n",
       "         (mlp): GemmaMLP(\n",
       "           (gate_proj): Linear4bit(in_features=2048, out_features=16384, bias=False)\n",
       "           (up_proj): Linear4bit(in_features=2048, out_features=16384, bias=False)\n",
       "           (down_proj): Linear4bit(in_features=16384, out_features=2048, bias=False)\n",
       "           (act_fn): GELUActivation()\n",
       "         )\n",
       "         (input_layernorm): GemmaRMSNorm((2048,), eps=1e-06)\n",
       "         (post_attention_layernorm): GemmaRMSNorm((2048,), eps=1e-06)\n",
       "       )\n",
       "     )\n",
       "     (norm): GemmaRMSNorm((2048,), eps=1e-06)\n",
       "     (rotary_emb): GemmaRotaryEmbedding()\n",
       "   )\n",
       "   (lm_head): Linear(in_features=2048, out_features=256000, bias=False)\n",
       " ))"
      ]
     },
     "execution_count": 16,
     "metadata": {},
     "output_type": "execute_result"
    }
   ],
   "source": [
    "llm_model.device ,llm_model"
   ]
  },
  {
   "cell_type": "code",
   "execution_count": 17,
   "id": "276a2279",
   "metadata": {},
   "outputs": [
    {
     "data": {
      "text/plain": [
       "1515268096"
      ]
     },
     "execution_count": 17,
     "metadata": {},
     "output_type": "execute_result"
    }
   ],
   "source": [
    "def get_model_num_params(model: torch.nn.Module):\n",
    "    return sum([param.numel() for param in model.parameters()])\n",
    "\n",
    "get_model_num_params(llm_model)"
   ]
  },
  {
   "cell_type": "code",
   "execution_count": 18,
   "id": "63bb185f",
   "metadata": {},
   "outputs": [
    {
     "data": {
      "text/plain": [
       "{'model_mem_bytes': 2039632384, 'model_mem_mb': 1945.15, 'model_mem_gb': 1.9}"
      ]
     },
     "execution_count": 18,
     "metadata": {},
     "output_type": "execute_result"
    }
   ],
   "source": [
    "def get_model_mem_size(model: torch.nn.Module):\n",
    "    \"\"\"\n",
    "    Get how much memory a PyTorch model takes up.\n",
    "\n",
    "    See: https://discuss.pytorch.org/t/gpu-memory-that-model-uses/56822\n",
    "    \"\"\"\n",
    "    # Get model parameters and buffer sizes\n",
    "    mem_params = sum([param.nelement() * param.element_size() for param in model.parameters()])\n",
    "    mem_buffers = sum([buf.nelement() * buf.element_size() for buf in model.buffers()])\n",
    "\n",
    "    # Calculate various model sizes\n",
    "    model_mem_bytes = mem_params + mem_buffers # in bytes\n",
    "    model_mem_mb = model_mem_bytes / (1024**2) # in megabytes\n",
    "    model_mem_gb = model_mem_bytes / (1024**3) # in gigabytes\n",
    "\n",
    "    return {\"model_mem_bytes\": model_mem_bytes,\n",
    "            \"model_mem_mb\": round(model_mem_mb, 2),\n",
    "            \"model_mem_gb\": round(model_mem_gb, 2)}\n",
    "\n",
    "get_model_mem_size(llm_model)"
   ]
  },
  {
   "cell_type": "code",
   "execution_count": 19,
   "id": "d483ef85",
   "metadata": {},
   "outputs": [
    {
     "name": "stdout",
     "output_type": "stream",
     "text": [
      "Input text:\n",
      "how is the vice president elected and what role does the parliament in electing the vice president?\n",
      "\n",
      "Prompt (formatted):\n",
      "<bos><start_of_turn>user\n",
      "how is the vice president elected and what role does the parliament in electing the vice president?<end_of_turn>\n",
      "<start_of_turn>model\n",
      "\n"
     ]
    }
   ],
   "source": [
    "input_text = \"how is the vice president elected and what role does the parliament in electing the vice president?\"\n",
    "print(f\"Input text:\\n{input_text}\")\n",
    "\n",
    "# Create prompt template for instruction-tuned model\n",
    "dialogue_template = [\n",
    "    {\"role\": \"user\",\n",
    "     \"content\": input_text}\n",
    "]\n",
    "\n",
    "# Apply the chat template\n",
    "prompt = tokenizer.apply_chat_template(conversation=dialogue_template,\n",
    "                                       tokenize=False, # keep as raw text (not tokenized)\n",
    "                                       add_generation_prompt=True)\n",
    "print(f\"\\nPrompt (formatted):\\n{prompt}\")"
   ]
  },
  {
   "cell_type": "code",
   "execution_count": 20,
   "id": "341ee35f",
   "metadata": {},
   "outputs": [
    {
     "name": "stdout",
     "output_type": "stream",
     "text": [
      "Model input (tokenized):\n",
      "{'input_ids': tensor([[     2,      2,    106,   1645,    108,   1139,    603,    573,  16832,\n",
      "           9456,  17710,    578,   1212,   4731,   1721,    573,  28191,    575,\n",
      "         182690,    573,  16832,   9456, 235336,    107,    108,    106,   2516,\n",
      "            108]], device='cuda:0'), 'attention_mask': tensor([[1, 1, 1, 1, 1, 1, 1, 1, 1, 1, 1, 1, 1, 1, 1, 1, 1, 1, 1, 1, 1, 1, 1, 1,\n",
      "         1, 1, 1, 1]], device='cuda:0')}\n",
      "\n",
      "Model output (tokens):\n",
      "tensor([     2,      2,    106,   1645,    108,   1139,    603,    573,  16832,\n",
      "          9456,  17710,    578,   1212,   4731,   1721,    573,  28191,    575,\n",
      "        182690,    573,  16832,   9456, 235336,    107,    108,    106,   2516,\n",
      "           108,  21404, 235269,   1517, 235303, 235256,    476,  25497,    576,\n",
      "          1368,    573,  17939,   6021,    603,  17710,    578,    573,   4731,\n",
      "           576,    573,  17685,    575, 182690,    573,  17939,   6021, 235292,\n",
      "           109,    688, 235274, 235265, 180632,    731,    573,   6021,  66058,\n",
      "           109, 235290,    714,   6021,    576,   5339,  16330,   1204,    476,\n",
      "          1552,    577,   3831,    573,  17939,   6021, 235265,    108, 235290,\n",
      "           714,  47284,   9286,    573,   6021, 235303, 235256,   5952,  15560,\n",
      "           578,    603,   5091,    577,    573,   8111,    576,    573,  14774,\n",
      "          8846,    578,    573,  37928, 235265,    109,    688, 235284, 235265,\n",
      "         43797,    731,    573,  17685,  66058,    109, 235290,    714,  17939,\n",
      "          6021,    603,  17710,    731,    573,  32102,  91431,    591,   1175,\n",
      "          4581,   3036,    576,    573,   6481,  17685, 235275,    731,    476,\n",
      "         10898,   8744, 235265,    108, 235290,    586,   3890,  10898,    603,\n",
      "          3690,    604,    476,   8385,  11621, 235265,    108, 235290,    714,\n",
      "         17939,   6021,    603,  17710,    604,    476,   4105, 235290,   4085,\n",
      "          5168, 235269,    675,    573,  13879,    576,    476,   7725,    576,\n",
      "          1378,   4563, 235265,    109,    688, 235304, 235265,   8182, 204843,\n",
      "         66058,    109, 235290,    714,  17939,   6021,    603,  17710,    575,\n",
      "           476,   7401,  43738, 235269,   6996,    674,    573,  12852,    576,\n",
      "           573,  53570,    603,    780,  12570, 235265,    108, 235290,    714,\n",
      "         25059,   5548,   2040,    575,    476,  23692,  20864,    575,    573,\n",
      "         17685, 235265,    109,    688, 235310, 235265,  95855,    731,    573,\n",
      "         17685,  66058,    109, 235290,    714,  17710,  17939,   6021,    603,\n",
      "          1492,  44001,  11261,    578,  12392,    731,    573,  17685, 235265,\n",
      "           108, 235290,    586,  10898,   8744,    603,   3690,    604,  28768,\n",
      "        235265,    109,    688, 235308, 235265, 135468,    576,   7006,  66058,\n",
      "           109, 235290,    714,  18519,  17710,  17939,   6021,   5548,    573,\n",
      "         41465,    576,   4844,    575,    573,   8566,    576,    573,   6021,\n",
      "           578,    573,  17939,   6021, 235265], device='cuda:0')\n",
      "\n",
      "CPU times: total: 15.7 s\n",
      "Wall time: 18.3 s\n"
     ]
    }
   ],
   "source": [
    "%%time\n",
    "\n",
    "# Tokenize the input text (turn it into numbers) and send it to GPU\n",
    "input_ids = tokenizer(prompt, return_tensors=\"pt\").to(\"cuda\")\n",
    "print(f\"Model input (tokenized):\\n{input_ids}\\n\")\n",
    "\n",
    "# Generate outputs passed on the tokenized input\n",
    "# See generate docs: https://huggingface.co/docs/transformers/v4.38.2/en/main_classes/text_generation#transformers.GenerationConfig \n",
    "outputs = llm_model.generate(**input_ids,\n",
    "                             max_new_tokens=256) # define the maximum number of new tokens to create\n",
    "print(f\"Model output (tokens):\\n{outputs[0]}\\n\")"
   ]
  },
  {
   "cell_type": "code",
   "execution_count": 21,
   "id": "8ca1f93b",
   "metadata": {},
   "outputs": [
    {
     "name": "stdout",
     "output_type": "stream",
     "text": [
      "Model output (decoded):\n",
      "<bos><bos><start_of_turn>user\n",
      "how is the vice president elected and what role does the parliament in electing the vice president?<end_of_turn>\n",
      "<start_of_turn>model\n",
      "Sure, here's a breakdown of how the Vice President is elected and the role of the Parliament in electing the Vice President:\n",
      "\n",
      "**1. Nomination by the President:**\n",
      "\n",
      "- The President of India nominates a person to become the Vice President.\n",
      "- The nomination requires the President's written approval and is subject to the advice of the Prime Minister and the Cabinet.\n",
      "\n",
      "**2. Election by the Parliament:**\n",
      "\n",
      "- The Vice President is elected by the Lok Sabha (the lower house of the Indian Parliament) by a majority vote.\n",
      "- A simple majority is required for a successful election.\n",
      "- The Vice President is elected for a five-year term, with the possibility of a maximum of two terms.\n",
      "\n",
      "**3. Secret Ballot:**\n",
      "\n",
      "- The Vice President is elected in a secret ballot, meaning that the identity of the voter is not revealed.\n",
      "- The voting takes place in a designated chamber in the Parliament.\n",
      "\n",
      "**4. Confirmation by the Parliament:**\n",
      "\n",
      "- The elected Vice President is then formally introduced and confirmed by the Parliament.\n",
      "- A majority vote is required for confirmation.\n",
      "\n",
      "**5. Oath of Office:**\n",
      "\n",
      "- The newly elected Vice President takes the oath of office in the presence of the President and the Vice President.\n",
      "\n"
     ]
    }
   ],
   "source": [
    "# Decode the output tokens to text\n",
    "outputs_decoded = tokenizer.decode(outputs[0])\n",
    "print(f\"Model output (decoded):\\n{outputs_decoded}\\n\")"
   ]
  },
  {
   "cell_type": "code",
   "execution_count": 22,
   "id": "dbeed8ef",
   "metadata": {},
   "outputs": [
    {
     "name": "stdout",
     "output_type": "stream",
     "text": [
      "Input text: how is the vice president elected and what role does the parliament in electing the vice president?\n",
      "\n",
      "Output text:\n",
      "Sure, here's a breakdown of how the Vice President is elected and the role of the Parliament in electing the Vice President:\n",
      "\n",
      "**1. Nomination by the President:**\n",
      "\n",
      "- The President of India nominates a person to become the Vice President.\n",
      "- The nomination requires the President's written approval and is subject to the advice of the Prime Minister and the Cabinet.\n",
      "\n",
      "**2. Election by the Parliament:**\n",
      "\n",
      "- The Vice President is elected by the Lok Sabha (the lower house of the Indian Parliament) by a majority vote.\n",
      "- A simple majority is required for a successful election.\n",
      "- The Vice President is elected for a five-year term, with the possibility of a maximum of two terms.\n",
      "\n",
      "**3. Secret Ballot:**\n",
      "\n",
      "- The Vice President is elected in a secret ballot, meaning that the identity of the voter is not revealed.\n",
      "- The voting takes place in a designated chamber in the Parliament.\n",
      "\n",
      "**4. Confirmation by the Parliament:**\n",
      "\n",
      "- The elected Vice President is then formally introduced and confirmed by the Parliament.\n",
      "- A majority vote is required for confirmation.\n",
      "\n",
      "**5. Oath of Office:**\n",
      "\n",
      "- The newly elected Vice President takes the oath of office in the presence of the President and the Vice President.\n"
     ]
    }
   ],
   "source": [
    "#format better \n",
    "print(f\"Input text: {input_text}\\n\")\n",
    "print(f\"Output text:\\n{outputs_decoded.replace(prompt, '').replace('<bos>', '').replace('<eos>', '')}\")"
   ]
  },
  {
   "cell_type": "code",
   "execution_count": 23,
   "id": "edad47b5",
   "metadata": {},
   "outputs": [],
   "source": [
    "query_list = [\n",
    "    \"What does the Preamble of the Indian Constitution declare about justice, liberty, equality, and fraternity?\",\n",
    "    \"How can Parliament form new states or alter the boundaries of existing states under Part I?\",\n",
    "    \"What were the provisions regarding citizenship at the commencement of the Constitution?\",\n",
    "    \"Which Fundamental Rights are guaranteed under the Right to Equality?\",\n",
    "    \"What Directive Principles guide the State in securing equal pay for equal work?\",\n",
    "    \"Why is the Preamble considered the soul of the Constitution of India?\",\n",
    "    \"How do Articles 5 to 11 reflect the framers' approach towards citizenship?\",\n",
    "    \"In what ways do Fundamental Rights ensure limitations on the power of the State?\",\n",
    "    \"How are Fundamental Duties different from Directive Principles of State Policy?\",\n",
    "    \"What role does Article 32 play in making the Fundamental Rights enforceable?\",\n",
    "\n",
    "]"
   ]
  },
  {
   "cell_type": "code",
   "execution_count": 24,
   "id": "a0a85d58",
   "metadata": {},
   "outputs": [
    {
     "name": "stdout",
     "output_type": "stream",
     "text": [
      "Query: What Directive Principles guide the State in securing equal pay for equal work?\n",
      "[INFO] Time taken to get scores on 328 embeddings: 0.00006 seconds.\n"
     ]
    },
    {
     "data": {
      "text/plain": [
       "(tensor([24.1441, 21.5105, 21.4556, 20.8002, 20.4005], device='cuda:0'),\n",
       " tensor([21, 22, 23,  8, 24], device='cuda:0'))"
      ]
     },
     "execution_count": 24,
     "metadata": {},
     "output_type": "execute_result"
    }
   ],
   "source": [
    "import random\n",
    "query = random.choice(query_list)\n",
    "\n",
    "print(f\"Query: {query}\")\n",
    "\n",
    "# Get just the scores and indices of top related results\n",
    "scores, indices = retrieve_relevant_resources(query=query,\n",
    "                                              embeddings=embeddings)\n",
    "scores, indices"
   ]
  },
  {
   "cell_type": "code",
   "execution_count": 25,
   "id": "d80ce3fe",
   "metadata": {},
   "outputs": [],
   "source": [
    "def prompt_formatter(query: str, \n",
    "                     context_items: list[dict]) -> str:\n",
    "    \"\"\"\n",
    "    Augments query with text-based context from context_items.\n",
    "    \"\"\"\n",
    "    # Join context items into one dotted paragraph\n",
    "    context = \"- \" + \"\\n- \".join([item[\"text\"] for item in context_items])\n",
    "\n",
    "    # Create a base prompt with examples to help the model\n",
    "    # Note: this is very customizable, I've chosen to use 3 examples of the answer style we'd like.\n",
    "    # We could also write this in a txt file and import it in if we wanted.\n",
    "    base_prompt = \"\"\"Based on the following context items, please answer the query.\n",
    "    Give yourself room to think by extracting relevant passages from the context before answering the query.\n",
    "    Don't return the thinking, only return the answer.\n",
    "    Make sure your answers are clear, detailed, and explanatory, using examples from the Constitution wherever possible.\n",
    "    Use the following examples as reference for the ideal answer style.\n",
    "\n",
    "    Example 1:\n",
    "    Query: What does the Preamble of the Indian Constitution declare?\n",
    "    Answer: The Preamble declares India to be a Sovereign, Socialist, Secular, Democratic Republic. It secures to all citizens Justice—social, economic, and political; Liberty of thought, expression, belief, faith, and worship; Equality of status and opportunity; and Fraternity assuring the dignity of the individual and the unity and integrity of the Nation. It was adopted on 26 November 1949, reflecting the vision of the Constituent Assembly.\n",
    "\n",
    "    Example 2:\n",
    "    Query: How can new states be created or existing states altered under the Constitution?\n",
    "    Answer: Articles 2 and 3 empower Parliament to admit new states, establish states, or alter existing states’ boundaries, names, or areas. For such changes, a bill must be introduced on the recommendation of the President, and if it affects any state’s area, boundaries, or name, the President must refer it to the concerned state legislature for its views. However, Parliament is not bound to accept the state’s opinion, ensuring flexibility in India’s federal structure.\n",
    "\n",
    "    Example 3:\n",
    "    Query: What are Fundamental Rights, and why are they important?\n",
    "    Answer: Fundamental Rights, enshrined in Part III (Articles 12–35), guarantee essential freedoms like equality before law, freedom of speech, protection of life and liberty, and the right to constitutional remedies. They act as limitations on state power and safeguard individual dignity. For instance, Article 32 empowers citizens to directly approach the Supreme Court for enforcement of rights, making these provisions justiciable and enforceable.\n",
    "\n",
    "    Now use the following context items to answer the user query:\n",
    "    {context}\n",
    "\n",
    "    Relevant passages: <extract relevant passages from the context here>\n",
    "    User query: {query}\n",
    "    Answer:\"\"\"\n",
    "\n",
    "    # Update base prompt with context items and query   \n",
    "    base_prompt = base_prompt.format(context=context, query=query)\n",
    "\n",
    "    # Create prompt template for instruction-tuned model\n",
    "    dialogue_template = [\n",
    "        {\"role\": \"user\",\n",
    "        \"content\": base_prompt}\n",
    "    ]\n",
    "\n",
    "    # Apply the chat template\n",
    "    prompt = tokenizer.apply_chat_template(conversation=dialogue_template,\n",
    "                                          tokenize=False,#to get the output prompt of this function as a text and not a tokenized version\n",
    "                                          add_generation_prompt=True)\n",
    "    return prompt\n",
    "    \n"
   ]
  },
  {
   "cell_type": "code",
   "execution_count": 28,
   "id": "4c4b4a68",
   "metadata": {},
   "outputs": [
    {
     "name": "stdout",
     "output_type": "stream",
     "text": [
      "Query: What role does Article 32 play in making the Fundamental Rights enforceable?\n",
      "[INFO] Time taken to get scores on 328 embeddings: 0.00007 seconds.\n",
      "<bos><start_of_turn>user\n",
      "Based on the following context items, please answer the query.\n",
      "    Give yourself room to think by extracting relevant passages from the context before answering the query.\n",
      "    Don't return the thinking, only return the answer.\n",
      "    Make sure your answers are clear, detailed, and explanatory, using examples from the Constitution wherever possible.\n",
      "    Use the following examples as reference for the ideal answer style.\n",
      "\n",
      "    Example 1:\n",
      "    Query: What does the Preamble of the Indian Constitution declare?\n",
      "    Answer: The Preamble declares India to be a Sovereign, Socialist, Secular, Democratic Republic. It secures to all citizens Justice—social, economic, and political; Liberty of thought, expression, belief, faith, and worship; Equality of status and opportunity; and Fraternity assuring the dignity of the individual and the unity and integrity of the Nation. It was adopted on 26 November 1949, reflecting the vision of the Constituent Assembly.\n",
      "\n",
      "    Example 2:\n",
      "    Query: How can new states be created or existing states altered under the Constitution?\n",
      "    Answer: Articles 2 and 3 empower Parliament to admit new states, establish states, or alter existing states’ boundaries, names, or areas. For such changes, a bill must be introduced on the recommendation of the President, and if it affects any state’s area, boundaries, or name, the President must refer it to the concerned state legislature for its views. However, Parliament is not bound to accept the state’s opinion, ensuring flexibility in India’s federal structure.\n",
      "\n",
      "    Example 3:\n",
      "    Query: What are Fundamental Rights, and why are they important?\n",
      "    Answer: Fundamental Rights, enshrined in Part III (Articles 12–35), guarantee essential freedoms like equality before law, freedom of speech, protection of life and liberty, and the right to constitutional remedies. They act as limitations on state power and safeguard individual dignity. For instance, Article 32 empowers citizens to directly approach the Supreme Court for enforcement of rights, making these provisions justiciable and enforceable.\n",
      "\n",
      "    Now use the following context items to answer the user query:\n",
      "    - 32. Remedies for enforcement of rights conferred by this Part.—(1) \n",
      "The right to move the Supreme Court by appropriate proceedings for the \n",
      "enforcement of the rights conferred by this Part is guaranteed.\n",
      "(2) The Supreme Court shall have power to issue directions or orders or \n",
      "writs, including writs in the nature of habeas corpus, mandamus, prohibition,\n",
      "quo warranto and certiorari,\n",
      "whichever may be appropriate, for the \n",
      "enforcement of any of the rights conferred by this Part.\n",
      "(3) Without prejudice to the powers conferred on the Supreme Court by \n",
      "clauses (1) and (2), Parliament may by law empower any other court to exercise \n",
      "within the local limits of its jurisdiction all or any of the powers exercisable by \n",
      "the Supreme Court under clause (2).\n",
      "(4) The right guaranteed by this article shall not be suspended except as \n",
      "otherwise provided for by this Constitution.\n",
      "132A. [Constitutional validity of State laws not to be considered in \n",
      "proceedings under article 32.].—Omitted by the Constitution (Forty-third \n",
      "Amendment) Act, 1977, s. 3 (w.e.f. 13-4-1978). 2[33. Power of Parliament to modify the rights conferred by this Part \n",
      "in their application to Forces, etc.—Parliament may, by law, determine to what \n",
      "extent any of the rights conferred by this Part shall, in their application to,—\n",
      "(a)  the members of the Armed Forces; or\n",
      "(b) the members of the Forces charged with the maintenance of \n",
      "public order; or\n",
      "(c) persons employed in any bureau or other organisation established \n",
      "by the State for purposes of intelligence or counter intelligence; or\n",
      "(d) person employed in, or in connection with, the telecommunication \n",
      "systems set up for the purposes of any Force, bureau or organisation \n",
      "referred to in clauses (a) to (c),\n",
      "be restricted or abrogated so as to ensure the proper discharge of their duties \n",
      "and the maintenance of discipline among them.]\n",
      "(Part III.—Fundamental Rights)\n",
      "- (Part III.—Fundamental Rights)\n",
      "(6) Nothing in sub-clause (g) of the said clause shall affect the operation \n",
      "of any existing law in so far as it imposes, or prevent the State from making \n",
      "any law imposing, in the interests of the general public, reasonable restrictions \n",
      "on the exercise of the right conferred by the said sub-clause, and, in particular, \n",
      "1[nothing in the said sub-clause shall affect the operation of any existing law in \n",
      "so far as it relates to, or prevent the State from making any law relating to,—\n",
      "(i) the professional or technical qualifications necessary for practising \n",
      "any profession or carrying on any occupation, trade or business; or\n",
      "(ii) the carrying on by the State, or by a corporation owned or \n",
      "controlled by the State, of any trade, business, industry or service, \n",
      "whether to the exclusion, complete or partial, of citizens or otherwise.] 20. Protection in respect of conviction for offences.—(1) No person \n",
      "shall be convicted of any offence except for violation of a law in force at the \n",
      "time of the commission of the Act charged as an offence, nor be subjected to a \n",
      "penalty greater than that which might have been inflicted under the law in force \n",
      "at the time of the commission of the offence.\n",
      "(2) No person shall be prosecuted and punished for the same offence \n",
      "more than once.\n",
      "(3) No person accused of any offence shall be compelled to be a witness \n",
      "against himself. 21. Protection of life and personal liberty.—No person shall be \n",
      "deprived of his life or personal liberty except according to procedure \n",
      "established by law.\n",
      "2[21A. Right to education.—The State shall provide free and \n",
      "compulsory education to all children of the age of six to fourteen years in such \n",
      "manner as the State may,  by law,  determine.]\n",
      "- PART III \n",
      "FUNDAMENTAL RIGHTS\n",
      "General\n",
      "12. Definition.—In this Part, unless the context otherwise requires, “the \n",
      "State” includes the Government and Parliament of India and the Government \n",
      "and the Legislature of each of the States and all local or other authorities within \n",
      "the territory of India or under the control of the Government of India. 13. Laws inconsistent with or in derogation of the fundamental \n",
      "rights.—(1) All laws in force in the territory of India immediately before the \n",
      "commencement of this Constitution, in so far as they are inconsistent with the \n",
      "provisions of this Part, shall, to the extent of such inconsistency, be void.\n",
      "(2) The State shall not make any law which takes away or abridges the \n",
      "rights conferred by this Part and any law made in contravention of this clause \n",
      "shall, to the extent of the contravention, be void.\n",
      "(3) In this article, unless the context otherwise requires,—\n",
      "(a) “law” includes any Ordinance, order, bye-law, rule, regulation, \n",
      "notification, custom or usage having in the territory of India the force of \n",
      "law;\n",
      "(b) “laws in force” includes laws passed or made by a Legislature \n",
      "or other competent authority in the territory of India before the \n",
      "commencement of this Constitution and not previously repealed, \n",
      "notwithstanding that any such law or any part thereof may not be then in \n",
      "operation either at all or in particular areas.\n",
      "1[(4) Nothing in this article shall apply to any amendment of this \n",
      "Constitution made under article 368.]\n",
      "Right to Equality\n",
      "- 22. Protection against arrest and detention in certain cases.—(1) No \n",
      "person who is arrested shall be detained in custody without being informed, as \n",
      "soon as may be, of the grounds for such arrest nor shall he be denied the right \n",
      "to consult, and to be defended by, a legal practitioner of his choice. (Part III.—Fundamental Rights)\n",
      "(2) Every person who is arrested and detained in custody shall be \n",
      "produced before the nearest magistrate within a period of twenty-four hours of \n",
      "such arrest excluding the time necessary for the journey from the place of arrest \n",
      "to the court of the magistrate and no such person shall be detained in custody \n",
      "beyond the said period without the authority of a magistrate. (3) Nothing in clauses (1) and (2) shall apply—\n",
      "(a) to any person who for the time being is an enemy alien; or\n",
      "(b) to any person who is arrested or detained under any law providing \n",
      "for preventive detention. (4) No law providing for preventive detention shall authorise the \n",
      "detention of a person for a longer period than three months unless—\n",
      "(a) an Advisory Board consisting of persons who are, or have been, \n",
      "or are qualified to be appointed as, Judges of a High Court has reported \n",
      "before the expiration of the said period of three months that there is in its \n",
      "opinion sufficient cause for such detention:\n",
      "(Part III.—Fundamental Rights) Provided that nothing in this sub-clause shall authorise the detention \n",
      "of any person beyond the maximum period prescribed by any law made \n",
      "by Parliament under sub-clause (b) of clause (7); or\n",
      "(b) such person is detained in accordance with the provisions of any \n",
      "law made by Parliament under sub-clauses (a) and (b) of clause (7). (5) When any person is detained in pursuance of an order made under \n",
      "any law providing for preventive detention, the authority making the order \n",
      "shall, as soon as may be, communicate to such person the grounds on which the \n",
      "order has been made and shall afford him the earliest opportunity of making a \n",
      "representation against the order. (6) Nothing in clause (5) shall require the authority making any such \n",
      "order as is referred to in that clause to disclose facts which such authority \n",
      "considers to be against the public interest to disclose.\n",
      "- (7) Parliament may by law prescribe—\n",
      "(a) the circumstances under which, and the class or classes of cases \n",
      "in which, a person may be detained for a period longer than three months \n",
      "under any law providing for preventive detention without obtaining the \n",
      "opinion of an Advisory Board in accordance with the provisions of \n",
      "sub-clause (a) of clause (4);\n",
      "(b) the maximum period for which any person may in any class or \n",
      "classes of cases be detained under any law providing for preventive \n",
      "detention; and\n",
      "(c) the procedure to be followed by an Advisory Board in an \n",
      "inquiry under \n",
      "sub-clause (a) of clause (4). (Part III.—Fundamental Rights) Right against Exploitation 23. Prohibition of traffic in human beings and forced labour.—(1) \n",
      "Traffic in human beings and begar and other similar forms of forced labour are \n",
      "prohibited and any contravention of this provision shall be an offence \n",
      "punishable in accordance with law.\n",
      "(2) Nothing in this article shall prevent the State from imposing \n",
      "compulsory service for public purposes, and in imposing such service the State \n",
      "shall not make any discrimination on grounds only of religion, race, caste or \n",
      "class or any of them.\n",
      "\n",
      "    Relevant passages: <extract relevant passages from the context here>\n",
      "    User query: What role does Article 32 play in making the Fundamental Rights enforceable?\n",
      "    Answer:<end_of_turn>\n",
      "<start_of_turn>model\n",
      "\n"
     ]
    }
   ],
   "source": [
    "query = random.choice(query_list)\n",
    "print(f\"Query: {query}\")\n",
    "\n",
    "# Get relevant resources\n",
    "scores, indices = retrieve_relevant_resources(query=query,\n",
    "                                              embeddings=embeddings)\n",
    "    \n",
    "# Create a list of context items\n",
    "context_items = [constitution_and_chunks[i] for i in indices]\n",
    "\n",
    "# Format prompt with context items\n",
    "prompt = prompt_formatter(query=query,\n",
    "                          context_items=context_items)\n",
    "print(prompt)#this is why we gave tokenize = False in the prompt_formatter function"
   ]
  },
  {
   "cell_type": "code",
   "execution_count": null,
   "id": "eda6f384",
   "metadata": {},
   "outputs": [
    {
     "name": "stdout",
     "output_type": "stream",
     "text": [
      "Query: What role does Article 32 play in making the Fundamental Rights enforceable?\n",
      "RAG answer:\n",
      "<bos>According to the context, Article 32 empowers the Supreme Court to issue directions or orders, including writs, relating to the enforcement of the Fundamental Rights, guaranteeing essential freedoms like equality before law. This allows the Supreme Court to intervene and ensure that the Fundamental Rights are upheld in a fair and enforceable manner.<eos>\n",
      "CPU times: total: 24 s\n",
      "Wall time: 24 s\n"
     ]
    }
   ],
   "source": [
    "\n",
    "%%time\n",
    "\n",
    "input_ids = tokenizer(prompt, return_tensors=\"pt\").to(\"cuda\")\n",
    "\n",
    "# Generate an output of tokens \n",
    "                             temperature=0.7, # lower temperature = more deterministic outputs, higher temperature = more creative outputs\n",
    "                             do_sample=True, # whether or not to use sampling, see https://huyenchip.com/2024/01/16/sampling.html for more\n",
    "                             max_new_tokens=256) # how many new tokens to generate from prompt \n",
    "\n",
    "# Turn the output tokens into text\n",
    "output_text = tokenizer.decode(outputs[0])\n",
    "\n",
    "print(f\"Query: {query}\")\n",
    "print(f\"RAG answer:\\n{output_text.replace(prompt, '')}\")\n"
   ]
  },
  {
   "cell_type": "code",
   "execution_count": null,
   "id": "58051397",
   "metadata": {},
   "outputs": [],
   "source": []
  },
  {
   "cell_type": "code",
   "execution_count": null,
   "id": "7e7723c1",
   "metadata": {},
   "outputs": [],
   "source": []
  },
  {
   "cell_type": "code",
   "execution_count": null,
   "id": "8836cd86",
   "metadata": {},
   "outputs": [],
   "source": []
  },
  {
   "cell_type": "code",
   "execution_count": null,
   "id": "ad5bdb58",
   "metadata": {},
   "outputs": [],
   "source": []
  },
  {
   "cell_type": "code",
   "execution_count": null,
   "id": "be0eb6b0",
   "metadata": {},
   "outputs": [],
   "source": []
  },
  {
   "cell_type": "markdown",
   "id": "a36686f4",
   "metadata": {},
   "source": []
  }
 ],
 "metadata": {
  "kernelspec": {
   "display_name": "const_env (3.12.9)",
   "language": "python",
   "name": "python3"
  },
  "language_info": {
   "codemirror_mode": {
    "name": "ipython",
    "version": 3
   },
   "file_extension": ".py",
   "mimetype": "text/x-python",
   "name": "python",
   "nbconvert_exporter": "python",
   "pygments_lexer": "ipython3",
   "version": "3.12.9"
  }
 },
 "nbformat": 4,
 "nbformat_minor": 5
}
